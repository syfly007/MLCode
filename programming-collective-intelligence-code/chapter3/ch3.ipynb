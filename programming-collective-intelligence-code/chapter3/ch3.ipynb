{
 "cells": [
  {
   "cell_type": "markdown",
   "metadata": {
    "nbpresent": {
     "id": "e2c5b4de-a525-4f19-bea0-25e19a7afa5c"
    }
   },
   "source": [
    "# Discovering Groups"
   ]
  },
  {
   "cell_type": "markdown",
   "metadata": {
    "nbpresent": {
     "id": "d3efae32-f2fc-485a-97f2-bb8e14fd362e"
    }
   },
   "source": [
    "##### In this chapter, you’ll learn: "
   ]
  },
  {
   "cell_type": "raw",
   "metadata": {
    "nbpresent": {
     "id": "30bd6f1e-5e69-42aa-9bc3-a63a110a274b"
    }
   },
   "source": [
    "how to prepare data from a variety of sources; \n",
    "two different clustering algorithms; \n",
    "more on distance metrics; \n",
    "simple graphical visualization code for viewing the gener- ated groups; \n",
    "and finally, a method for projecting very complicated datasets into two dimensions"
   ]
  },
  {
   "cell_type": "markdown",
   "metadata": {
    "nbpresent": {
     "id": "dd13b9c0-aaf8-481b-b562-6895300f2b9b"
    }
   },
   "source": [
    "##### Example"
   ]
  },
  {
   "cell_type": "raw",
   "metadata": {
    "nbpresent": {
     "id": "1daaf72c-1956-4b59-b4d5-f5296e9017c3"
    }
   },
   "source": [
    "1.The first example will look at blogs, the topics they discuss, and their particular word usage to show that blogs can be grouped according to their text and that words can be grouped by their usage. "
   ]
  },
  {
   "cell_type": "raw",
   "metadata": {
    "nbpresent": {
     "id": "1745beb2-c3af-4ef8-b6d2-29c91c22931d"
    }
   },
   "source": [
    "2.The second example will look at a community site where people list things they own and things they would like to own, and we will use this information to show how people’s desires can be grouped into clusters."
   ]
  },
  {
   "cell_type": "markdown",
   "metadata": {
    "nbpresent": {
     "id": "a5995827-a1d6-4db3-9426-4b3ad23df3b0"
    }
   },
   "source": [
    "## Supervised vs Unsupervised Learning"
   ]
  },
  {
   "cell_type": "markdown",
   "metadata": {
    "nbpresent": {
     "id": "d4e55360-3cf9-45ae-836b-e2ed0f03d246"
    }
   },
   "source": [
    "##### supervised learning"
   ]
  },
  {
   "cell_type": "raw",
   "metadata": {
    "nbpresent": {
     "id": "ff8b231b-5786-4def-931f-702dc6b1e07d"
    }
   },
   "source": [
    "including:\n",
    "neural networks, \n",
    "decision trees, \n",
    "support-vector machines, \n",
    "and Bayesian filtering. \n",
    "Applications using these methods “learn” by examining a set of inputs and expected outputs"
   ]
  },
  {
   "cell_type": "markdown",
   "metadata": {
    "nbpresent": {
     "id": "ddd4ccd7-fbc7-4da6-86f1-c1c30e80f6cd"
    }
   },
   "source": [
    "##### unsupervised learning"
   ]
  },
  {
   "cell_type": "raw",
   "metadata": {
    "nbpresent": {
     "id": "2cc265f9-e324-4366-9e58-f561ecf7cd01"
    }
   },
   "source": [
    "Clustering is an example of unsupervised learning."
   ]
  },
  {
   "cell_type": "raw",
   "metadata": {
    "nbpresent": {
     "id": "ffdfefca-6b7b-4bb5-8255-b45de49b93e0"
    }
   },
   "source": [
    "Unsupervised learning algorithms are not trained with examples of correct answers.\n",
    "Their purpose is to find structure within a set of data where no one piece of data is the answer. "
   ]
  },
  {
   "cell_type": "raw",
   "metadata": {
    "nbpresent": {
     "id": "b5a985b2-32f3-484f-b67d-1e772a01e5f5"
    }
   },
   "source": [
    "1.In the fashion example given earlier, the clusters don’t tell the retailers what an individual is likely to buy, nor do they make predictions about which fashion island a new person fits into. The goal of clustering algorithms is to take the data and find the distinct groups that exist within it. \n",
    "2.Other examples of unsu- pervised learning include non-negative matrix factorization, which will be discussed in Chapter 10, and self-organizing maps."
   ]
  },
  {
   "cell_type": "markdown",
   "metadata": {},
   "source": [
    "## Word Vectors"
   ]
  },
  {
   "cell_type": "raw",
   "metadata": {},
   "source": [
    "The normal way of preparing data for clustering is to determine a common set of numerical attributes that can be used to compare the items."
   ]
  },
  {
   "cell_type": "markdown",
   "metadata": {},
   "source": [
    "### Pigeonholing the Bloggers （博客分类）"
   ]
  },
  {
   "cell_type": "markdown",
   "metadata": {},
   "source": [
    "### Counting the Words in a Feed"
   ]
  },
  {
   "cell_type": "code",
   "execution_count": 42,
   "metadata": {
    "collapsed": false
   },
   "outputs": [],
   "source": [
    "import feedparser\n",
    "import re\n",
    "\n",
    "# Returns title and dictionary of word counts for an RSS feed\n",
    "def getwordcounts(url):\n",
    "  # Parse the feed\n",
    "  d=feedparser.parse(url)\n",
    "  wc={}\n",
    "\n",
    "  # Loop over all the entries\n",
    "  for e in d.entries:\n",
    "    if 'summary' in e: summary=e.summary\n",
    "    else: summary=e.description\n",
    "\n",
    "    # Extract a list of words\n",
    "    words=getwords(e.title+' '+summary)\n",
    "    for word in words:\n",
    "      wc.setdefault(word,0)\n",
    "      wc[word]+=1\n",
    "  return d.feed.title,wc\n",
    "\n",
    "def getwords(html):\n",
    "  # Remove all the HTML tags\n",
    "  txt=re.compile(r'<[^>]+>').sub('',html)\n",
    "\n",
    "  # Split words by all non-alpha characters\n",
    "  words=re.compile(r'[^A-Z^a-z]+').split(txt)\n",
    "\n",
    "  # Convert to lowercase\n",
    "  return [word.lower() for word in words if word!='']"
   ]
  },
  {
   "cell_type": "markdown",
   "metadata": {},
   "source": [
    "###### Test function"
   ]
  },
  {
   "cell_type": "code",
   "execution_count": 38,
   "metadata": {
    "collapsed": false
   },
   "outputs": [],
   "source": [
    "d=feedparser.parse('http://www.shoemoney.com/feed/')"
   ]
  },
  {
   "cell_type": "code",
   "execution_count": 26,
   "metadata": {
    "collapsed": false
   },
   "outputs": [
    {
     "data": {
      "text/plain": [
       "'aaaGit sf sdf sdf lflklsf ffdaaa dddd <> ccccc aaa  ddddddsdfdsf aaa    aaa    aaa'"
      ]
     },
     "execution_count": 26,
     "metadata": {},
     "output_type": "execute_result"
    }
   ],
   "source": [
    "a=re.compile(r'<[^>]+>').sub('aaa','<title>Git sf sdf sdf lflklsf ffd</title> dddd <> ccccc <abc>  ddddddsdfdsf <meta name=\"viewport\" content=\"width=device-width\" />    <meta name=\"keywords\" content=\"javascript,node,jquery,git,python,java,sql,linux,ios,android,教程,软件,编程,开发,运维,云计算,网络,互联网\" />    <meta name=\"description\" content=\"研究互联网产品和技术，提供原创中文精品教程\" />')\n",
    "a"
   ]
  },
  {
   "cell_type": "code",
   "execution_count": 41,
   "metadata": {
    "collapsed": false
   },
   "outputs": [],
   "source": [
    "b=re.compile(r'[^A-Z^a-z]+').split(a)"
   ]
  },
  {
   "cell_type": "code",
   "execution_count": 40,
   "metadata": {
    "collapsed": false
   },
   "outputs": [],
   "source": [
    "g=getwordcounts('http://www.shoemoney.com/feed/')"
   ]
  },
  {
   "cell_type": "markdown",
   "metadata": {
    "collapsed": true
   },
   "source": [
    "## Hierarchical Clustering"
   ]
  },
  {
   "cell_type": "raw",
   "metadata": {},
   "source": [
    "Hierarchical clustering builds up a hierarchy of groups by continuously merging the two most similar groups. Each of these groups starts as a single item, in this case an individual blog. In each iteration this method calculates the distances between every pair of groups, and the closest ones are merged together to form a new group. This is repeated until there is only one group. "
   ]
  },
  {
   "cell_type": "code",
   "execution_count": 45,
   "metadata": {
    "collapsed": false
   },
   "outputs": [],
   "source": [
    "from math import sqrt\n",
    "\n",
    "def pearson(v1,v2):\n",
    "  # Simple sums\n",
    "  sum1=sum(v1)\n",
    "  sum2=sum(v2)\n",
    "  \n",
    "  # Sums of the squares\n",
    "  sum1Sq=sum([pow(v,2) for v in v1])\n",
    "  sum2Sq=sum([pow(v,2) for v in v2])\t\n",
    "  \n",
    "  # Sum of the products\n",
    "  pSum=sum([v1[i]*v2[i] for i in range(len(v1))])\n",
    "  \n",
    "  # Calculate r (Pearson score)\n",
    "  num=pSum-(sum1*sum2/len(v1))\n",
    "  den=sqrt((sum1Sq-pow(sum1,2)/len(v1))*(sum2Sq-pow(sum2,2)/len(v1)))\n",
    "  if den==0: return 0\n",
    "\n",
    "  return 1.0-num/den"
   ]
  },
  {
   "cell_type": "raw",
   "metadata": {},
   "source": [
    "Remember that the Pearson correlation is 1.0 when two items match perfectly, and is close to 0.0 when there’s no relationship at all. The final line of the code returns 1.0 minus the Pearson correlation to create a smaller distance between items that are more similar."
   ]
  },
  {
   "cell_type": "code",
   "execution_count": null,
   "metadata": {
    "collapsed": true
   },
   "outputs": [],
   "source": []
  }
 ],
 "metadata": {
  "anaconda-cloud": {},
  "kernelspec": {
   "display_name": "Python [default]",
   "language": "python",
   "name": "python2"
  },
  "language_info": {
   "codemirror_mode": {
    "name": "ipython",
    "version": 2
   },
   "file_extension": ".py",
   "mimetype": "text/x-python",
   "name": "python",
   "nbconvert_exporter": "python",
   "pygments_lexer": "ipython2",
   "version": "2.7.12"
  },
  "nbpresent": {
   "slides": {
    "02104eae-435e-4f0f-8536-8ba6e75865e0": {
     "id": "02104eae-435e-4f0f-8536-8ba6e75865e0",
     "prev": "bab57283-90f1-4904-97cd-58e89ddfba34",
     "regions": {
      "ae6acdbb-4253-42c9-9cd2-31fd0eb91af8": {
       "attrs": {
        "height": 0.8,
        "width": 0.8,
        "x": 0.1,
        "y": 0.1
       },
       "content": {
        "cell": "36cb45f2-e364-4526-ad90-0685d6c471ad",
        "part": "whole"
       },
       "id": "ae6acdbb-4253-42c9-9cd2-31fd0eb91af8"
      }
     }
    },
    "303751c1-ce53-4a81-ae15-daf463caf72a": {
     "id": "303751c1-ce53-4a81-ae15-daf463caf72a",
     "prev": "7b94983b-cfe8-4cd8-8ede-2ac339bb9632",
     "regions": {
      "5c2f0bb8-4851-4da0-bf12-2467ca69b2d7": {
       "attrs": {
        "height": 0.8,
        "width": 0.8,
        "x": 0.1,
        "y": 0.1
       },
       "content": {
        "cell": "ff8b231b-5786-4def-931f-702dc6b1e07d",
        "part": "whole"
       },
       "id": "5c2f0bb8-4851-4da0-bf12-2467ca69b2d7"
      }
     }
    },
    "60513373-d343-427e-9664-be5349968910": {
     "id": "60513373-d343-427e-9664-be5349968910",
     "prev": "fe8ae89d-14d8-445f-97b6-fdfad7ec1ad7",
     "regions": {
      "c18775d4-5aef-47da-b421-bc41ddb4266f": {
       "attrs": {
        "height": 0.8,
        "width": 0.8,
        "x": 0.1,
        "y": 0.1
       },
       "content": {
        "cell": "2cc265f9-e324-4366-9e58-f561ecf7cd01",
        "part": "whole"
       },
       "id": "c18775d4-5aef-47da-b421-bc41ddb4266f"
      }
     }
    },
    "62864bf5-b952-4697-a300-cfede7b1acbc": {
     "id": "62864bf5-b952-4697-a300-cfede7b1acbc",
     "prev": "b3666bb6-4a2f-472b-817a-ee294f75b037",
     "regions": {
      "bc5b75e3-f418-45fd-ab44-17a97503b030": {
       "attrs": {
        "height": 0.8,
        "width": 0.8,
        "x": 0.1,
        "y": 0.1
       },
       "content": {
        "cell": "30bd6f1e-5e69-42aa-9bc3-a63a110a274b",
        "part": "whole"
       },
       "id": "bc5b75e3-f418-45fd-ab44-17a97503b030"
      }
     }
    },
    "7b94983b-cfe8-4cd8-8ede-2ac339bb9632": {
     "id": "7b94983b-cfe8-4cd8-8ede-2ac339bb9632",
     "prev": "e5fc06c6-ff89-41ee-b908-653113ba366d",
     "regions": {
      "5816de7c-8a17-4a02-9066-f3b985d4926a": {
       "attrs": {
        "height": 0.8,
        "width": 0.8,
        "x": 0.1,
        "y": 0.1
       },
       "content": {
        "cell": "d4e55360-3cf9-45ae-836b-e2ed0f03d246",
        "part": "whole"
       },
       "id": "5816de7c-8a17-4a02-9066-f3b985d4926a"
      }
     }
    },
    "81dcd062-0902-4264-91e5-e7fdd3f61e23": {
     "id": "81dcd062-0902-4264-91e5-e7fdd3f61e23",
     "prev": "60513373-d343-427e-9664-be5349968910",
     "regions": {
      "663232d1-5a9a-4dc5-bfea-fb86eca4c8cf": {
       "attrs": {
        "height": 0.8,
        "width": 0.8,
        "x": 0.1,
        "y": 0.1
       },
       "content": {
        "cell": "ffdfefca-6b7b-4bb5-8255-b45de49b93e0",
        "part": "whole"
       },
       "id": "663232d1-5a9a-4dc5-bfea-fb86eca4c8cf"
      }
     }
    },
    "a936673c-b97b-47b8-8c43-865b332b20c7": {
     "id": "a936673c-b97b-47b8-8c43-865b332b20c7",
     "prev": null,
     "regions": {
      "a57be238-01d2-49cf-948b-92ae39b527b8": {
       "attrs": {
        "height": 0.8,
        "width": 0.8,
        "x": 0.1,
        "y": 0.1
       },
       "content": {
        "cell": "e2c5b4de-a525-4f19-bea0-25e19a7afa5c",
        "part": "whole"
       },
       "id": "a57be238-01d2-49cf-948b-92ae39b527b8"
      }
     }
    },
    "b3666bb6-4a2f-472b-817a-ee294f75b037": {
     "id": "b3666bb6-4a2f-472b-817a-ee294f75b037",
     "prev": "a936673c-b97b-47b8-8c43-865b332b20c7",
     "regions": {
      "f1ba5a9a-e421-4237-bfdd-3b9cc74f45ce": {
       "attrs": {
        "height": 0.8,
        "width": 0.8,
        "x": 0.1,
        "y": 0.1
       },
       "content": {
        "cell": "d3efae32-f2fc-485a-97f2-bb8e14fd362e",
        "part": "whole"
       },
       "id": "f1ba5a9a-e421-4237-bfdd-3b9cc74f45ce"
      }
     }
    },
    "bab57283-90f1-4904-97cd-58e89ddfba34": {
     "id": "bab57283-90f1-4904-97cd-58e89ddfba34",
     "prev": "81dcd062-0902-4264-91e5-e7fdd3f61e23",
     "regions": {
      "8bf3f14d-85a4-4815-b296-5b8f6e2fe14f": {
       "attrs": {
        "height": 0.8,
        "width": 0.8,
        "x": 0.1,
        "y": 0.1
       },
       "content": {
        "cell": "b5a985b2-32f3-484f-b67d-1e772a01e5f5",
        "part": "whole"
       },
       "id": "8bf3f14d-85a4-4815-b296-5b8f6e2fe14f"
      }
     }
    },
    "c05f4a7f-5873-45e1-a14d-77ff6d20f751": {
     "id": "c05f4a7f-5873-45e1-a14d-77ff6d20f751",
     "prev": "d3ed5c82-f507-4cc8-8010-870ade936d99",
     "regions": {
      "815d9575-9997-4c04-b3a0-82ff02702312": {
       "attrs": {
        "height": 0.8,
        "width": 0.8,
        "x": 0.1,
        "y": 0.1
       },
       "content": {
        "cell": "1daaf72c-1956-4b59-b4d5-f5296e9017c3",
        "part": "whole"
       },
       "id": "815d9575-9997-4c04-b3a0-82ff02702312"
      }
     }
    },
    "d3ed5c82-f507-4cc8-8010-870ade936d99": {
     "id": "d3ed5c82-f507-4cc8-8010-870ade936d99",
     "prev": "62864bf5-b952-4697-a300-cfede7b1acbc",
     "regions": {
      "e3970040-a96e-4ecb-bfa5-7073e48a9bb4": {
       "attrs": {
        "height": 0.8,
        "width": 0.8,
        "x": 0.1,
        "y": 0.1
       },
       "content": {
        "cell": "dd13b9c0-aaf8-481b-b562-6895300f2b9b",
        "part": "whole"
       },
       "id": "e3970040-a96e-4ecb-bfa5-7073e48a9bb4"
      }
     }
    },
    "e3d26e7c-8048-4ceb-a80a-a0909eea7a4c": {
     "id": "e3d26e7c-8048-4ceb-a80a-a0909eea7a4c",
     "prev": "c05f4a7f-5873-45e1-a14d-77ff6d20f751",
     "regions": {
      "f0090269-25c8-4adc-85c5-8ddfb62256ea": {
       "attrs": {
        "height": 0.8,
        "width": 0.8,
        "x": 0.1,
        "y": 0.1
       },
       "content": {
        "cell": "1745beb2-c3af-4ef8-b6d2-29c91c22931d",
        "part": "whole"
       },
       "id": "f0090269-25c8-4adc-85c5-8ddfb62256ea"
      }
     }
    },
    "e5fc06c6-ff89-41ee-b908-653113ba366d": {
     "id": "e5fc06c6-ff89-41ee-b908-653113ba366d",
     "prev": "e3d26e7c-8048-4ceb-a80a-a0909eea7a4c",
     "regions": {
      "b30714e9-78af-4865-aee0-2095f8c5f303": {
       "attrs": {
        "height": 0.8,
        "width": 0.8,
        "x": 0.1,
        "y": 0.1
       },
       "content": {
        "cell": "a5995827-a1d6-4db3-9426-4b3ad23df3b0",
        "part": "whole"
       },
       "id": "b30714e9-78af-4865-aee0-2095f8c5f303"
      }
     },
     "theme": "44c91e97-ab5f-4bd1-8197-2744a0a97dba"
    },
    "fe8ae89d-14d8-445f-97b6-fdfad7ec1ad7": {
     "id": "fe8ae89d-14d8-445f-97b6-fdfad7ec1ad7",
     "prev": "303751c1-ce53-4a81-ae15-daf463caf72a",
     "regions": {
      "9a48389f-4af9-45d4-bb81-92e01fd9375e": {
       "attrs": {
        "height": 0.8,
        "width": 0.8,
        "x": 0.1,
        "y": 0.1
       },
       "content": {
        "cell": "ddd4ccd7-fbc7-4da6-86f1-c1c30e80f6cd",
        "part": "whole"
       },
       "id": "9a48389f-4af9-45d4-bb81-92e01fd9375e"
      }
     }
    }
   },
   "themes": {
    "default": "44c91e97-ab5f-4bd1-8197-2744a0a97dba",
    "theme": {
     "44c91e97-ab5f-4bd1-8197-2744a0a97dba": {
      "backgrounds": {
       "backgroundColor": {
        "background-color": "backgroundColor",
        "id": "backgroundColor"
       }
      },
      "id": "44c91e97-ab5f-4bd1-8197-2744a0a97dba",
      "palette": {
       "backgroundColor": {
        "id": "backgroundColor",
        "rgb": [
         34,
         34,
         34
        ]
       },
       "headingColor": {
        "id": "headingColor",
        "rgb": [
         238,
         238,
         238
        ]
       },
       "linkColor": {
        "id": "linkColor",
        "rgb": [
         170,
         34,
         51
        ]
       },
       "mainColor": {
        "id": "mainColor",
        "rgb": [
         238,
         238,
         238
        ]
       }
      },
      "rules": {
       "a": {
        "color": "linkColor"
       },
       "h1": {
        "color": "headingColor",
        "font-family": "Ubuntu",
        "font-size": 7
       },
       "h2": {
        "color": "headingColor",
        "font-family": "Ubuntu",
        "font-size": 5
       },
       "h3": {
        "color": "headingColor",
        "font-family": "Ubuntu",
        "font-size": 3.75
       },
       "h4": {
        "color": "headingColor",
        "font-family": "Ubuntu",
        "font-size": 3
       },
       "h5": {
        "color": "headingColor",
        "font-family": "Ubuntu"
       },
       "h6": {
        "color": "headingColor",
        "font-family": "Ubuntu"
       },
       "h7": {
        "color": "headingColor",
        "font-family": "Ubuntu"
       },
       "li": {
        "color": "mainColor",
        "font-family": "Ubuntu",
        "font-size": 5
       },
       "p": {
        "color": "mainColor",
        "font-family": "Ubuntu",
        "font-size": 5
       }
      },
      "text-base": {
       "color": "mainColor",
       "font-family": "Ubuntu",
       "font-size": 5
      }
     }
    }
   }
  }
 },
 "nbformat": 4,
 "nbformat_minor": 1
}
