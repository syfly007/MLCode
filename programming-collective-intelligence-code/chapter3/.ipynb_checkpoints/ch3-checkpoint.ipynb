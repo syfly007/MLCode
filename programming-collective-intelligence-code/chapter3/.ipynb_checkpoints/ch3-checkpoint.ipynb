{
 "cells": [
  {
   "cell_type": "markdown",
   "metadata": {
    "nbpresent": {
     "id": "e2c5b4de-a525-4f19-bea0-25e19a7afa5c"
    }
   },
   "source": [
    "# Discovering Groups"
   ]
  },
  {
   "cell_type": "markdown",
   "metadata": {
    "nbpresent": {
     "id": "d3efae32-f2fc-485a-97f2-bb8e14fd362e"
    }
   },
   "source": [
    "##### In this chapter, you’ll learn: "
   ]
  },
  {
   "cell_type": "raw",
   "metadata": {
    "nbpresent": {
     "id": "30bd6f1e-5e69-42aa-9bc3-a63a110a274b"
    }
   },
   "source": [
    "how to prepare data from a variety of sources; \n",
    "two different clustering algorithms; \n",
    "more on distance metrics; \n",
    "simple graphical visualization code for viewing the gener- ated groups; \n",
    "and finally, a method for projecting very complicated datasets into two dimensions"
   ]
  },
  {
   "cell_type": "markdown",
   "metadata": {
    "nbpresent": {
     "id": "dd13b9c0-aaf8-481b-b562-6895300f2b9b"
    }
   },
   "source": [
    "##### Example"
   ]
  },
  {
   "cell_type": "raw",
   "metadata": {
    "nbpresent": {
     "id": "1daaf72c-1956-4b59-b4d5-f5296e9017c3"
    }
   },
   "source": [
    "1.The first example will look at blogs, the topics they discuss, and their particular word usage to show that blogs can be grouped according to their text and that words can be grouped by their usage. "
   ]
  },
  {
   "cell_type": "raw",
   "metadata": {
    "nbpresent": {
     "id": "1745beb2-c3af-4ef8-b6d2-29c91c22931d"
    }
   },
   "source": [
    "2.The second example will look at a community site where people list things they own and things they would like to own, and we will use this information to show how people’s desires can be grouped into clusters."
   ]
  },
  {
   "cell_type": "markdown",
   "metadata": {
    "nbpresent": {
     "id": "a5995827-a1d6-4db3-9426-4b3ad23df3b0"
    }
   },
   "source": [
    "## Supervised vs Unsupervised Learning"
   ]
  },
  {
   "cell_type": "markdown",
   "metadata": {
    "nbpresent": {
     "id": "d4e55360-3cf9-45ae-836b-e2ed0f03d246"
    }
   },
   "source": [
    "##### supervised learning"
   ]
  },
  {
   "cell_type": "raw",
   "metadata": {
    "nbpresent": {
     "id": "ff8b231b-5786-4def-931f-702dc6b1e07d"
    }
   },
   "source": [
    "including:\n",
    "neural networks, \n",
    "decision trees, \n",
    "support-vector machines, \n",
    "and Bayesian filtering. \n",
    "Applications using these methods “learn” by examining a set of inputs and expected outputs"
   ]
  },
  {
   "cell_type": "markdown",
   "metadata": {
    "nbpresent": {
     "id": "ddd4ccd7-fbc7-4da6-86f1-c1c30e80f6cd"
    }
   },
   "source": [
    "##### unsupervised learning"
   ]
  },
  {
   "cell_type": "raw",
   "metadata": {
    "nbpresent": {
     "id": "2cc265f9-e324-4366-9e58-f561ecf7cd01"
    }
   },
   "source": [
    "Clustering is an example of unsupervised learning."
   ]
  },
  {
   "cell_type": "raw",
   "metadata": {
    "nbpresent": {
     "id": "ffdfefca-6b7b-4bb5-8255-b45de49b93e0"
    }
   },
   "source": [
    "Unsupervised learning algorithms are not trained with examples of correct answers.\n",
    "Their purpose is to find structure within a set of data where no one piece of data is the answer. "
   ]
  },
  {
   "cell_type": "raw",
   "metadata": {
    "nbpresent": {
     "id": "b5a985b2-32f3-484f-b67d-1e772a01e5f5"
    }
   },
   "source": [
    "1.In the fashion example given earlier, the clusters don’t tell the retailers what an individual is likely to buy, nor do they make predictions about which fashion island a new person fits into. The goal of clustering algorithms is to take the data and find the distinct groups that exist within it. \n",
    "2.Other examples of unsu- pervised learning include non-negative matrix factorization, which will be discussed in Chapter 10, and self-organizing maps."
   ]
  },
  {
   "cell_type": "markdown",
   "metadata": {},
   "source": [
    "## Word Vectors"
   ]
  },
  {
   "cell_type": "raw",
   "metadata": {},
   "source": [
    "The normal way of preparing data for clustering is to determine a common set of numerical attributes that can be used to compare the items."
   ]
  },
  {
   "cell_type": "markdown",
   "metadata": {},
   "source": [
    "### Pigeonholing the Bloggers （博客分类）"
   ]
  },
  {
   "cell_type": "markdown",
   "metadata": {},
   "source": [
    "### Counting the Words in a Feed"
   ]
  },
  {
   "cell_type": "code",
   "execution_count": 1,
   "metadata": {
    "collapsed": false
   },
   "outputs": [],
   "source": [
    "import feedparser\n",
    "import re\n",
    "\n",
    "# Returns title and dictionary of word counts for an RSS feed\n",
    "def getwordcounts(url):\n",
    "  # Parse the feed\n",
    "  d=feedparser.parse(url)\n",
    "  wc={}\n",
    "\n",
    "  # Loop over all the entries\n",
    "  for e in d.entries:\n",
    "    if 'summary' in e: summary=e.summary\n",
    "    else: summary=e.description\n",
    "\n",
    "    # Extract a list of words\n",
    "    words=getwords(e.title+' '+summary)\n",
    "    for word in words:\n",
    "      wc.setdefault(word,0)\n",
    "      wc[word]+=1\n",
    "  return d.feed.title,wc\n",
    "\n",
    "def getwords(html):\n",
    "  # Remove all the HTML tags\n",
    "  txt=re.compile(r'<[^>]+>').sub('',html)\n",
    "\n",
    "  # Split words by all non-alpha characters\n",
    "  words=re.compile(r'[^A-Z^a-z]+').split(txt)\n",
    "\n",
    "  # Convert to lowercase\n",
    "  return [word.lower() for word in words if word!='']"
   ]
  },
  {
   "cell_type": "markdown",
   "metadata": {},
   "source": [
    "###### Test function"
   ]
  },
  {
   "cell_type": "code",
   "execution_count": 2,
   "metadata": {
    "collapsed": false
   },
   "outputs": [],
   "source": [
    "d=feedparser.parse('http://www.shoemoney.com/feed/')"
   ]
  },
  {
   "cell_type": "code",
   "execution_count": 3,
   "metadata": {
    "collapsed": false
   },
   "outputs": [
    {
     "data": {
      "text/plain": [
       "'aaaGit sf sdf sdf lflklsf ffdaaa dddd <> ccccc aaa  ddddddsdfdsf aaa    aaa    aaa'"
      ]
     },
     "execution_count": 3,
     "metadata": {},
     "output_type": "execute_result"
    }
   ],
   "source": [
    "a=re.compile(r'<[^>]+>').sub('aaa','<title>Git sf sdf sdf lflklsf ffd</title> dddd <> ccccc <abc>  ddddddsdfdsf <meta name=\"viewport\" content=\"width=device-width\" />    <meta name=\"keywords\" content=\"javascript,node,jquery,git,python,java,sql,linux,ios,android,教程,软件,编程,开发,运维,云计算,网络,互联网\" />    <meta name=\"description\" content=\"研究互联网产品和技术，提供原创中文精品教程\" />')\n",
    "a"
   ]
  },
  {
   "cell_type": "code",
   "execution_count": 4,
   "metadata": {
    "collapsed": false
   },
   "outputs": [],
   "source": [
    "b=re.compile(r'[^A-Z^a-z]+').split(a)"
   ]
  },
  {
   "cell_type": "code",
   "execution_count": 5,
   "metadata": {
    "collapsed": false
   },
   "outputs": [],
   "source": [
    "# g=getwordcounts('http://www.shoemoney.com/feed/')"
   ]
  },
  {
   "cell_type": "markdown",
   "metadata": {
    "collapsed": true
   },
   "source": [
    "## Hierarchical Clustering"
   ]
  },
  {
   "cell_type": "raw",
   "metadata": {},
   "source": [
    "Hierarchical clustering builds up a hierarchy of groups by continuously merging the two most similar groups. Each of these groups starts as a single item, in this case an individual blog. In each iteration this method calculates the distances between every pair of groups, and the closest ones are merged together to form a new group. This is repeated until there is only one group. "
   ]
  },
  {
   "cell_type": "code",
   "execution_count": 6,
   "metadata": {
    "collapsed": false
   },
   "outputs": [],
   "source": [
    "from math import sqrt\n",
    "\n",
    "def pearson(v1,v2):\n",
    "  # Simple sums\n",
    "  sum1=sum(v1)\n",
    "  sum2=sum(v2)\n",
    "  \n",
    "  # Sums of the squares\n",
    "  sum1Sq=sum([pow(v,2) for v in v1])\n",
    "  sum2Sq=sum([pow(v,2) for v in v2])\t\n",
    "  \n",
    "  # Sum of the products\n",
    "  pSum=sum([v1[i]*v2[i] for i in range(len(v1))])\n",
    "  \n",
    "  # Calculate r (Pearson score)\n",
    "  num=pSum-(sum1*sum2/len(v1))\n",
    "  den=sqrt((sum1Sq-pow(sum1,2)/len(v1))*(sum2Sq-pow(sum2,2)/len(v1)))\n",
    "  if den==0: return 0\n",
    "\n",
    "  return 1.0-num/den"
   ]
  },
  {
   "cell_type": "raw",
   "metadata": {},
   "source": [
    "Remember that the Pearson correlation is 1.0 when two items match perfectly, and is close to 0.0 when there’s no relationship at all. The final line of the code returns 1.0 minus the Pearson correlation to create a smaller distance between items that are more similar."
   ]
  },
  {
   "cell_type": "markdown",
   "metadata": {
    "collapsed": true
   },
   "source": [
    "<img src=\"fig3-1.png\">"
   ]
  },
  {
   "cell_type": "code",
   "execution_count": 7,
   "metadata": {
    "collapsed": true
   },
   "outputs": [],
   "source": [
    "class bicluster:\n",
    "  def __init__(self,vec,left=None,right=None,distance=0.0,id=None):\n",
    "    self.left=left\n",
    "    self.right=right\n",
    "    self.vec=vec\n",
    "    self.id=id\n",
    "    self.distance=distance"
   ]
  },
  {
   "cell_type": "raw",
   "metadata": {},
   "source": [
    "represent the hierarchical tree"
   ]
  },
  {
   "cell_type": "markdown",
   "metadata": {},
   "source": [
    "##### hcluster algorithm"
   ]
  },
  {
   "cell_type": "code",
   "execution_count": 8,
   "metadata": {
    "collapsed": false
   },
   "outputs": [],
   "source": [
    "def hcluster(rows,distance=pearson):\n",
    "  distances={}\n",
    "  currentclustid=-1\n",
    "\n",
    "  # Clusters are initially just the rows\n",
    "  clust=[bicluster(rows[i],id=i) for i in range(len(rows))]\n",
    "\n",
    "  while len(clust)>1:\n",
    "    lowestpair=(0,1)\n",
    "    closest=distance(clust[0].vec,clust[1].vec)\n",
    "\n",
    "    # loop through every pair looking for the smallest distance\n",
    "    for i in range(len(clust)):\n",
    "      for j in range(i+1,len(clust)):\n",
    "        # distances is the cache of distance calculations\n",
    "        if (clust[i].id,clust[j].id) not in distances: \n",
    "          distances[(clust[i].id,clust[j].id)]=distance(clust[i].vec,clust[j].vec)\n",
    "\n",
    "        d=distances[(clust[i].id,clust[j].id)]\n",
    "\n",
    "        if d<closest:\n",
    "          closest=d\n",
    "          lowestpair=(i,j)\n",
    "\n",
    "    # calculate the average of the two clusters\n",
    "    mergevec=[\n",
    "    (clust[lowestpair[0]].vec[i]+clust[lowestpair[1]].vec[i])/2.0 \n",
    "    for i in range(len(clust[0].vec))]\n",
    "\n",
    "    # create the new cluster\n",
    "    newcluster=bicluster(mergevec,left=clust[lowestpair[0]],\n",
    "                         right=clust[lowestpair[1]],\n",
    "                         distance=closest,id=currentclustid)\n",
    "\n",
    "    # cluster ids that weren't in the original set are negative\n",
    "    currentclustid-=1\n",
    "    del clust[lowestpair[1]]\n",
    "    del clust[lowestpair[0]]\n",
    "    clust.append(newcluster)\n",
    "\n",
    "  return clust[0]"
   ]
  },
  {
   "cell_type": "code",
   "execution_count": 9,
   "metadata": {
    "collapsed": true
   },
   "outputs": [],
   "source": [
    "import clusters\n",
    "blognames,words,data=clusters.readfile('blogdata.txt')"
   ]
  },
  {
   "cell_type": "code",
   "execution_count": 10,
   "metadata": {
    "collapsed": true
   },
   "outputs": [],
   "source": [
    "clust=clusters.hcluster(data)"
   ]
  },
  {
   "cell_type": "markdown",
   "metadata": {},
   "source": [
    "##### Add the function printclust to clusters.py:"
   ]
  },
  {
   "cell_type": "code",
   "execution_count": 11,
   "metadata": {
    "collapsed": false
   },
   "outputs": [],
   "source": [
    "def printclust(clust,labels=None,n=0):\n",
    "  # indent to make a hierarchy layout\n",
    "  for i in range(n): print ' ',\n",
    "  if clust.id<0:\n",
    "    # negative id means that this is branch\n",
    "    print '-'\n",
    "  else:\n",
    "    # positive id means that this is an endpoint\n",
    "    if labels==None: print clust.id\n",
    "    else: print labels[clust.id]"
   ]
  },
  {
   "cell_type": "code",
   "execution_count": 12,
   "metadata": {
    "collapsed": false
   },
   "outputs": [
    {
     "name": "stdout",
     "output_type": "stream",
     "text": [
      "-\n",
      "  gapingvoid: \"cartoons drawn on the back of business cards\"\n",
      "  -\n",
      "    -\n",
      "      Schneier on Security\n",
      "      Instapundit.com\n",
      "    -\n",
      "      The Blotter\n",
      "      -\n",
      "        -\n",
      "          MetaFilter\n",
      "          -\n",
      "            SpikedHumor\n",
      "            -\n",
      "              Captain's Quarters\n",
      "              -\n",
      "                Michelle Malkin\n",
      "                -\n",
      "                  -\n",
      "                    NewsBusters.org - Exposing Liberal Media Bias\n",
      "                    -\n",
      "                      -\n",
      "                        Hot Air\n",
      "                        Crooks and Liars\n",
      "                      -\n",
      "                        Power Line\n",
      "                        Think Progress\n",
      "                  -\n",
      "                    Andrew Sullivan | The Daily Dish\n",
      "                    -\n",
      "                      Little Green Footballs\n",
      "                      -\n",
      "                        Eschaton\n",
      "                        -\n",
      "                          Talking Points Memo: by Joshua Micah Marshall\n",
      "                          Daily Kos\n",
      "        -\n",
      "          43 Folders\n",
      "          -\n",
      "            TechEBlog\n",
      "            -\n",
      "              -\n",
      "                Mashable!\n",
      "                Signum sine tinnitu--by Guy Kawasaki\n",
      "              -\n",
      "                -\n",
      "                  -\n",
      "                    Slashdot\n",
      "                    -\n",
      "                      MAKE Magazine\n",
      "                      Boing Boing\n",
      "                  -\n",
      "                    -\n",
      "                      Oilman\n",
      "                      -\n",
      "                        Online Marketing Report\n",
      "                        -\n",
      "                          Treehugger\n",
      "                          -\n",
      "                            SimpleBits\n",
      "                            -\n",
      "                              Cool Hunting\n",
      "                              -\n",
      "                                Steve Pavlina's Personal Development Blog\n",
      "                                -\n",
      "                                  -\n",
      "                                    ScienceBlogs : Combined Feed\n",
      "                                    Pharyngula\n",
      "                                  -\n",
      "                                    BuzzMachine\n",
      "                                    -\n",
      "                                      Copyblogger\n",
      "                                      -\n",
      "                                        -\n",
      "                                          The Viral Garden\n",
      "                                          Seth's Blog\n",
      "                                        -\n",
      "                                          -\n",
      "                                            Bloggers Blog: Blogging the Blogsphere\n",
      "                                            -\n",
      "                                              Sifry's Alerts\n",
      "                                              ProBlogger Blog Tips\n",
      "                                          -\n",
      "                                            -\n",
      "                                              Valleywag\n",
      "                                              Scobleizer - Tech Geek Blogger\n",
      "                                            -\n",
      "                                              -\n",
      "                                                O'Reilly Radar\n",
      "                                                456 Berea Street\n",
      "                                              -\n",
      "                                                Lifehacker\n",
      "                                                -\n",
      "                                                  Quick Online Tips\n",
      "                                                  -\n",
      "                                                    Publishing 2.0\n",
      "                                                    -\n",
      "                                                      Micro Persuasion\n",
      "                                                      -\n",
      "                                                        A Consuming Experience (full feed)\n",
      "                                                        -\n",
      "                                                          John Battelle's Searchblog\n",
      "                                                          -\n",
      "                                                            Search Engine Watch Blog\n",
      "                                                            -\n",
      "                                                              Read/WriteWeb\n",
      "                                                              -\n",
      "                                                                Official Google Blog\n",
      "                                                                -\n",
      "                                                                  Search Engine Roundtable\n",
      "                                                                  -\n",
      "                                                                    Google Operating System\n",
      "                                                                    Google Blogoscoped\n",
      "                    -\n",
      "                      -\n",
      "                        -\n",
      "                          -\n",
      "                            Blog Maverick\n",
      "                            -\n",
      "                              Download Squad\n",
      "                              -\n",
      "                                CoolerHeads Prevail\n",
      "                                -\n",
      "                                  Joystiq\n",
      "                                  The Unofficial Apple Weblog (TUAW)\n",
      "                          -\n",
      "                            Autoblog\n",
      "                            -\n",
      "                              Engadget\n",
      "                              TMZ.com\n",
      "                        -\n",
      "                          Matt Cutts: Gadgets, Google, and SEO\n",
      "                          -\n",
      "                            PaulStamatiou.com\n",
      "                            -\n",
      "                              -\n",
      "                                GigaOM\n",
      "                                TechCrunch\n",
      "                              -\n",
      "                                -\n",
      "                                  Techdirt\n",
      "                                  Creating Passionate Users\n",
      "                                -\n",
      "                                  Joho the Blog\n",
      "                                  -\n",
      "                                    -\n",
      "                                      PerezHilton.com\n",
      "                                      Jeremy Zawodny's blog\n",
      "                                    -\n",
      "                                      Joi Ito's Web\n",
      "                                      -\n",
      "                                        ongoing\n",
      "                                        -\n",
      "                                          Joel on Software\n",
      "                                          -\n",
      "                                            -\n",
      "                                              we make money not art\n",
      "                                              -\n",
      "                                                plasticbag.org\n",
      "                                                -\n",
      "                                                  Signal vs. Noise\n",
      "                                                  -\n",
      "                                                    kottke.org\n",
      "                                                    -\n",
      "                                                      Neil Gaiman's Journal\n",
      "                                                      -\n",
      "                                                        -\n",
      "                                                          The Huffington Post | Raw Feed\n",
      "                                                          -\n",
      "                                                            Wonkette\n",
      "                                                            -\n",
      "                                                              Gawker\n",
      "                                                              -\n",
      "                                                                The Superficial - Because You're Ugly\n",
      "                                                                Go Fug Yourself\n",
      "                                                        -\n",
      "                                                          Deadspin\n",
      "                                                          Gothamist\n",
      "                                            -\n",
      "                                              Kotaku\n",
      "                                              Gizmodo\n",
      "                      -\n",
      "                        Shoemoney - Skills to pay the bills\n",
      "                        -\n",
      "                          flagrantdisregard\n",
      "                          -\n",
      "                            WWdN: In Exile\n",
      "                            -\n",
      "                              Derek Powazek\n",
      "                              -\n",
      "                                lifehack.org\n",
      "                                Dave Shea's mezzoblue\n",
      "                -\n",
      "                  Wired News: Top Stories\n",
      "                  -\n",
      "                    Topix.net Weblog\n",
      "                    Bloglines | News\n"
     ]
    }
   ],
   "source": [
    "clusters.printclust(clust,labels=blognames)"
   ]
  },
  {
   "cell_type": "code",
   "execution_count": 13,
   "metadata": {
    "collapsed": true
   },
   "outputs": [],
   "source": [
    "#clust.vec"
   ]
  },
  {
   "cell_type": "markdown",
   "metadata": {},
   "source": [
    "## Drawing the Dendrogram"
   ]
  },
  {
   "cell_type": "code",
   "execution_count": 14,
   "metadata": {
    "collapsed": true
   },
   "outputs": [],
   "source": [
    "clusters.drawdendrogram(clust,blognames,jpeg='blogclust.jpg')"
   ]
  },
  {
   "cell_type": "markdown",
   "metadata": {},
   "source": [
    "## Column Clustering"
   ]
  },
  {
   "cell_type": "raw",
   "metadata": {},
   "source": [
    "It’s often necessary to cluster on both the rows and the columns. In a marketingstudy, it can be interesting to group people to find demographics and products, orperhaps to determine shelf locations of items that are commonly bought together. Inthe blog dataset, the columns represent words, and it’s potentially interesting to seewhich words are commonly used together."
   ]
  },
  {
   "cell_type": "raw",
   "metadata": {},
   "source": [
    "The easiest way to do this using the functions you’ve written thus far is to rotate theentire dataset so that the columns (the words) become rows"
   ]
  },
  {
   "cell_type": "code",
   "execution_count": 15,
   "metadata": {
    "collapsed": true
   },
   "outputs": [],
   "source": [
    "def rotatematrix(data):\n",
    "  newdata=[]\n",
    "  for i in range(len(data[0])):\n",
    "    newrow=[data[j][i] for j in range(len(data))]\n",
    "    newdata.append(newrow)\n",
    "  return newdata\n",
    "\n",
    "import random"
   ]
  },
  {
   "cell_type": "code",
   "execution_count": 16,
   "metadata": {
    "collapsed": true
   },
   "outputs": [],
   "source": [
    "redata=clusters.rotatematrix(data)\n",
    "wordclust=clusters.hcluster(redata)\n",
    "clusters.drawdendrogram(wordclust,labels=words,jpeg='wordclust.jpg')"
   ]
  },
  {
   "cell_type": "raw",
   "metadata": {},
   "source": [
    "One important thing to realize about clustering is that if you have many more items than variables, the likelihood of nonsensical clusters increases. There are many more words than there are blogs, so you’ll notice more reasonable patterns in the blog clustering than in the word clustering."
   ]
  },
  {
   "cell_type": "markdown",
   "metadata": {},
   "source": [
    "## K-Means Clustering"
   ]
  },
  {
   "cell_type": "markdown",
   "metadata": {},
   "source": [
    "Hierarchical clustering disadvantages:\n",
    "    - The tree view doesn’t really break the data into distinct groups without additional work.\n",
    "    - Algorithm is extremely computationally intensive(Because the relationship between every pair of items must be calculated and then recalculated when items are merged, the algorithm will run slowly on very large datasets.)"
   ]
  },
  {
   "cell_type": "markdown",
   "metadata": {
    "collapsed": true
   },
   "source": [
    "<img src=\"fig3-5.png\">"
   ]
  },
  {
   "cell_type": "code",
   "execution_count": 17,
   "metadata": {
    "collapsed": true
   },
   "outputs": [],
   "source": [
    "def kcluster(rows,distance=pearson,k=4):\n",
    "  # Determine the minimum and maximum values for each point\n",
    "  ranges=[(min([row[i] for row in rows]),max([row[i] for row in rows])) \n",
    "  for i in range(len(rows[0]))]\n",
    "\n",
    "  # Create k randomly placed centroids\n",
    "  clusters=[[random.random()*(ranges[i][1]-ranges[i][0])+ranges[i][0] \n",
    "  for i in range(len(rows[0]))] for j in range(k)]\n",
    "  \n",
    "  lastmatches=None\n",
    "  for t in range(100):\n",
    "    print 'Iteration %d' % t\n",
    "    bestmatches=[[] for i in range(k)]\n",
    "    \n",
    "    # Find which centroid is the closest for each row\n",
    "    for j in range(len(rows)):\n",
    "      row=rows[j]\n",
    "      bestmatch=0\n",
    "      for i in range(k):\n",
    "        d=distance(clusters[i],row)\n",
    "        if d<distance(clusters[bestmatch],row): bestmatch=i\n",
    "      bestmatches[bestmatch].append(j)\n",
    "\n",
    "    # If the results are the same as last time, this is complete\n",
    "    if bestmatches==lastmatches: break\n",
    "    lastmatches=bestmatches\n",
    "    \n",
    "    # Move the centroids to the average of their members\n",
    "    for i in range(k):\n",
    "      avgs=[0.0]*len(rows[0])\n",
    "      if len(bestmatches[i])>0:\n",
    "        for rowid in bestmatches[i]:\n",
    "          for m in range(len(rows[rowid])):\n",
    "            avgs[m]+=rows[rowid][m]\n",
    "        for j in range(len(avgs)):\n",
    "          avgs[j]/=len(bestmatches[i])\n",
    "        clusters[i]=avgs\n",
    "      \n",
    "  return bestmatches"
   ]
  },
  {
   "cell_type": "code",
   "execution_count": 18,
   "metadata": {
    "collapsed": false
   },
   "outputs": [
    {
     "name": "stdout",
     "output_type": "stream",
     "text": [
      "Iteration 0\n",
      "Iteration 1\n",
      "Iteration 2\n",
      "Iteration 3\n",
      "Iteration 4\n"
     ]
    }
   ],
   "source": [
    "reload(clusters)\n",
    "kclust=clusters.kcluster(data,k=4)"
   ]
  },
  {
   "cell_type": "code",
   "execution_count": 19,
   "metadata": {
    "collapsed": false
   },
   "outputs": [
    {
     "name": "stdout",
     "output_type": "stream",
     "text": [
      "[[4, 6, 7, 8, 10, 11, 13, 14, 17, 23, 25, 27, 29, 30, 32, 35, 37, 48, 51, 55, 62, 63, 64, 66, 68, 69, 70, 71, 75, 78, 80, 82, 88, 92, 95, 97], [0, 1, 3, 9, 12, 15, 18, 19, 20, 22, 26, 28, 31, 38, 39, 43, 44, 45, 47, 50, 52, 53, 58, 61, 72, 73, 74, 77, 83, 86, 87, 90, 93, 98], [2, 5, 21, 33, 34, 36, 54, 57, 59, 60, 65, 67, 76, 79, 84, 85, 89, 96], [16, 24, 40, 41, 42, 46, 49, 56, 81, 91, 94]]\n"
     ]
    },
    {
     "data": {
      "text/plain": [
       "[['Blog Maverick',\n",
       "  'we make money not art',\n",
       "  'GigaOM',\n",
       "  'Joho the Blog',\n",
       "  'Signal vs. Noise',\n",
       "  'lifehack.org',\n",
       "  'Online Marketing Report',\n",
       "  'Kotaku',\n",
       "  '43 Folders',\n",
       "  'Lifehacker',\n",
       "  'Valleywag',\n",
       "  'ScienceBlogs : Combined Feed',\n",
       "  'SimpleBits',\n",
       "  'Slashdot',\n",
       "  'BuzzMachine',\n",
       "  'The Viral Garden',\n",
       "  'Cool Hunting',\n",
       "  'Techdirt',\n",
       "  'Treehugger',\n",
       "  'Schneier on Security',\n",
       "  '456 Berea Street',\n",
       "  'Signum sine tinnitu--by Guy Kawasaki',\n",
       "  'Pharyngula',\n",
       "  'Creating Passionate Users',\n",
       "  'Wired News: Top Stories',\n",
       "  'PaulStamatiou.com',\n",
       "  \"Dave Shea's mezzoblue\",\n",
       "  \"Steve Pavlina's Personal Development Blog\",\n",
       "  'ongoing',\n",
       "  \"Joi Ito's Web\",\n",
       "  'Matt Cutts: Gadgets, Google, and SEO',\n",
       "  'Joel on Software',\n",
       "  \"Jeremy Zawodny's blog\",\n",
       "  'plasticbag.org',\n",
       "  'WWdN: In Exile',\n",
       "  \"Seth's Blog\"],\n",
       " [\"The Superficial - Because You're Ugly\",\n",
       "  'Wonkette',\n",
       "  'Eschaton',\n",
       "  \"Neil Gaiman's Journal\",\n",
       "  'Hot Air',\n",
       "  'Talking Points Memo: by Joshua Micah Marshall',\n",
       "  'Daily Kos',\n",
       "  'Deadspin',\n",
       "  'Go Fug Yourself',\n",
       "  'Andrew Sullivan | The Daily Dish',\n",
       "  'Gizmodo',\n",
       "  'Michelle Malkin',\n",
       "  'Gothamist',\n",
       "  'SpikedHumor',\n",
       "  'flagrantdisregard',\n",
       "  \"Captain's Quarters\",\n",
       "  'MAKE Magazine',\n",
       "  'Engadget',\n",
       "  'Power Line',\n",
       "  'The Blotter',\n",
       "  'Crooks and Liars',\n",
       "  'TMZ.com',\n",
       "  'Think Progress',\n",
       "  'Little Green Footballs',\n",
       "  'NewsBusters.org - Exposing Liberal Media Bias',\n",
       "  'kottke.org',\n",
       "  'MetaFilter',\n",
       "  'Instapundit.com',\n",
       "  'Boing Boing',\n",
       "  'PerezHilton.com',\n",
       "  'Derek Powazek',\n",
       "  'Autoblog',\n",
       "  'Gawker',\n",
       "  'The Huffington Post | Raw Feed'],\n",
       " ['Publishing 2.0',\n",
       "  'Mashable!',\n",
       "  \"O'Reilly Radar\",\n",
       "  \"Sifry's Alerts\",\n",
       "  'Topix.net Weblog',\n",
       "  'Micro Persuasion',\n",
       "  'Bloggers Blog: Blogging the Blogsphere',\n",
       "  'Copyblogger',\n",
       "  'Scobleizer - Tech Geek Blogger',\n",
       "  'Shoemoney - Skills to pay the bills',\n",
       "  'TechEBlog',\n",
       "  'TechCrunch',\n",
       "  'Oilman',\n",
       "  'A Consuming Experience (full feed)',\n",
       "  'Bloglines | News',\n",
       "  'Quick Online Tips',\n",
       "  'gapingvoid: \"cartoons drawn on the back of business cards\"',\n",
       "  'ProBlogger Blog Tips'],\n",
       " [\"John Battelle's Searchblog\",\n",
       "  'Google Operating System',\n",
       "  'Search Engine Watch Blog',\n",
       "  'Joystiq',\n",
       "  'Download Squad',\n",
       "  'CoolerHeads Prevail',\n",
       "  'Official Google Blog',\n",
       "  'Search Engine Roundtable',\n",
       "  'The Unofficial Apple Weblog (TUAW)',\n",
       "  'Google Blogoscoped',\n",
       "  'Read/WriteWeb']]"
      ]
     },
     "execution_count": 19,
     "metadata": {},
     "output_type": "execute_result"
    }
   ],
   "source": [
    "print kclust\n",
    "[[blognames[i] for i in kclust[j]] for j in range(4)]"
   ]
  },
  {
   "cell_type": "markdown",
   "metadata": {},
   "source": [
    "## Getting and Preparing the Data"
   ]
  },
  {
   "cell_type": "markdown",
   "metadata": {},
   "source": [
    "If you would like to skip this section, you can download a precreated dataset from http://kiwitobes.com/clusters/zebo.txt"
   ]
  },
  {
   "cell_type": "code",
   "execution_count": 20,
   "metadata": {
    "collapsed": false
   },
   "outputs": [],
   "source": [
    "import urllib2\n",
    "from BeautifulSoup import BeautifulSoup\n",
    "# proxy = 'http://127.0.0.1:3128'\n",
    "# opener = urllib2.build_opener( urllib2.ProxyHandler({'http':proxy}) ) \n",
    "# urllib2.install_opener( opener ) \n",
    "c=urllib2.urlopen('http://www.baidu.com')\n",
    "soup=BeautifulSoup(c.read( ))"
   ]
  },
  {
   "cell_type": "code",
   "execution_count": 21,
   "metadata": {
    "collapsed": false
   },
   "outputs": [
    {
     "data": {
      "text/plain": [
       "u'http://map.baidu.com'"
      ]
     },
     "execution_count": 21,
     "metadata": {},
     "output_type": "execute_result"
    }
   ],
   "source": [
    "links=soup('a')\n",
    "links[10]\n",
    "links[10]['href']"
   ]
  },
  {
   "cell_type": "markdown",
   "metadata": {},
   "source": [
    "## Scraping the Zebo Results"
   ]
  },
  {
   "cell_type": "markdown",
   "metadata": {},
   "source": [
    "## Defining a Distance Metric"
   ]
  },
  {
   "cell_type": "markdown",
   "metadata": {},
   "source": [
    "The Pearson correlation works well for the blog dataset where the values are actual word counts. However, this dataset just has 1s and 0s for presence or absence, and it would be more useful to define some measure of overlap between the people who want two items. "
   ]
  },
  {
   "cell_type": "code",
   "execution_count": 22,
   "metadata": {
    "collapsed": true
   },
   "outputs": [],
   "source": [
    "def tanamoto(v1,v2):\n",
    "  c1,c2,shr=0,0,0\n",
    "  \n",
    "  for i in range(len(v1)):\n",
    "    if v1[i]!=0: c1+=1 # in v1\n",
    "    if v2[i]!=0: c2+=1 # in v2\n",
    "    if v1[i]!=0 and v2[i]!=0: shr+=1 # in both\n",
    "  \n",
    "  return 1.0-(float(shr)/(c1+c2-shr))"
   ]
  },
  {
   "cell_type": "markdown",
   "metadata": {},
   "source": [
    "1.0 indicates that nobody who wants the first item wants the second one;\n",
    "\n",
    "0.0 means that exactly the same set of people want the two items."
   ]
  },
  {
   "cell_type": "markdown",
   "metadata": {},
   "source": [
    "## Clustering Results"
   ]
  },
  {
   "cell_type": "code",
   "execution_count": 23,
   "metadata": {
    "collapsed": true
   },
   "outputs": [],
   "source": [
    "reload(clusters)\n",
    "wants,people,data=clusters.readfile('zebo.txt')\n",
    "clust=clusters.hcluster(data,distance=clusters.tanamoto)\n",
    "clusters.drawdendrogram(clust,wants)"
   ]
  },
  {
   "cell_type": "markdown",
   "metadata": {},
   "source": [
    "## Viewing Data in Two Dimensions"
   ]
  },
  {
   "cell_type": "markdown",
   "metadata": {},
   "source": [
    "Since most real-life examples of items you would want to cluster have more than two numbers, you can’t just\n",
    "take the data as-is and plot it in two dimensions. However, to understand the relationship between the various items, it would be very useful to see them charted on a page with closer distances indicating similarity.\n",
    "\n",
    "This section will introduce a technique called **multidimensional scaling**, which will be used to find a two-dimensional representation of the dataset"
   ]
  },
  {
   "cell_type": "code",
   "execution_count": 24,
   "metadata": {
    "collapsed": true
   },
   "outputs": [],
   "source": [
    "def scaledown(data,distance=pearson,rate=0.01):\n",
    "  n=len(data)\n",
    "\n",
    "  # The real distances between every pair of items\n",
    "  realdist=[[distance(data[i],data[j]) for j in range(n)] \n",
    "             for i in range(0,n)]\n",
    "\n",
    "  # Randomly initialize the starting points of the locations in 2D\n",
    "  loc=[[random.random(),random.random()] for i in range(n)]\n",
    "  fakedist=[[0.0 for j in range(n)] for i in range(n)]\n",
    "  \n",
    "  lasterror=None\n",
    "  for m in range(0,1000):\n",
    "    # Find projected distances\n",
    "    for i in range(n):\n",
    "      for j in range(n):\n",
    "        #real distance\n",
    "        fakedist[i][j]=sqrt(sum([pow(loc[i][x]-loc[j][x],2) \n",
    "                                 for x in range(len(loc[i]))]))\n",
    "  \n",
    "    # Move points\n",
    "    grad=[[0.0,0.0] for i in range(n)]\n",
    "    \n",
    "    totalerror=0\n",
    "    for k in range(n):\n",
    "      for j in range(n):\n",
    "        if j==k: continue\n",
    "        # The error is percent difference between the distances\n",
    "        errorterm=(fakedist[j][k]-realdist[j][k])/realdist[j][k]\n",
    "        \n",
    "        # Each point needs to be moved away from or towards the other\n",
    "        # point in proportion to how much error it has\n",
    "        grad[k][0]+=((loc[k][0]-loc[j][0])/fakedist[j][k])*errorterm\n",
    "        grad[k][1]+=((loc[k][1]-loc[j][1])/fakedist[j][k])*errorterm\n",
    "\n",
    "        # Keep track of the total error\n",
    "        totalerror+=abs(errorterm)\n",
    "    print totalerror\n",
    "\n",
    "    # If the answer got worse by moving the points, we are done\n",
    "    #该处注释可能效果更好，突破局部最小值\n",
    "    if lasterror and lasterror<totalerror: break\n",
    "    lasterror=totalerror\n",
    "    \n",
    "    # Move each of the points by the learning rate times the gradient\n",
    "    for k in range(n):\n",
    "      loc[k][0]-=rate*grad[k][0]\n",
    "      loc[k][1]-=rate*grad[k][1]\n",
    "\n",
    "  return loc"
   ]
  },
  {
   "cell_type": "code",
   "execution_count": 25,
   "metadata": {
    "collapsed": false
   },
   "outputs": [
    {
     "name": "stdout",
     "output_type": "stream",
     "text": [
      "4659.82497573\n",
      "3597.02296541\n",
      "3511.02979018\n",
      "3467.04335064\n",
      "3430.99305395\n",
      "3399.53540962\n",
      "3370.84694745\n",
      "3346.26587969\n",
      "3325.74602176\n",
      "3310.12369962\n",
      "3296.60308302\n",
      "3284.66443479\n",
      "3274.63257725\n",
      "3266.20806016\n",
      "3258.41631685\n",
      "3249.59862758\n",
      "3241.21670841\n",
      "3234.18804792\n",
      "3227.55969864\n",
      "3221.57047528\n",
      "3215.82235141\n",
      "3210.10392547\n",
      "3204.33811469\n",
      "3199.86917511\n",
      "3196.62634564\n",
      "3193.82287497\n",
      "3190.80581005\n",
      "3187.73739102\n",
      "3184.95971256\n",
      "3182.27619939\n",
      "3179.88686269\n",
      "3177.58612809\n",
      "3175.39046409\n",
      "3173.10982932\n",
      "3171.30743911\n",
      "3169.71333107\n",
      "3167.92256824\n",
      "3165.94725484\n",
      "3164.04783482\n",
      "3162.31204096\n",
      "3160.39666407\n",
      "3158.71421097\n",
      "3156.90877623\n",
      "3155.07407571\n",
      "3153.26712893\n",
      "3151.53467756\n",
      "3149.63998114\n",
      "3147.53404549\n",
      "3145.07484807\n",
      "3142.61842852\n",
      "3140.2707606\n",
      "3137.79876462\n",
      "3135.04527906\n",
      "3132.20342565\n",
      "3129.67097465\n",
      "3127.3356615\n",
      "3125.34656773\n",
      "3123.53242664\n",
      "3121.67420723\n",
      "3119.63055225\n",
      "3117.4091392\n",
      "3114.91209272\n",
      "3112.28485918\n",
      "3109.75995777\n",
      "3107.36501917\n",
      "3105.03398794\n",
      "3103.04027974\n",
      "3101.10251793\n",
      "3099.25553751\n",
      "3097.59988811\n",
      "3095.76381955\n",
      "3093.99978905\n",
      "3092.45485671\n",
      "3091.31980674\n",
      "3090.20185798\n",
      "3089.14095217\n",
      "3088.07236727\n",
      "3087.11509278\n",
      "3086.01942783\n",
      "3084.70677871\n",
      "3083.17434668\n",
      "3081.50065199\n",
      "3079.49601675\n",
      "3077.36034439\n",
      "3075.43187974\n",
      "3073.677663\n",
      "3072.14420332\n",
      "3070.88158868\n",
      "3069.75953168\n",
      "3068.75477012\n",
      "3067.69909785\n",
      "3066.60215281\n",
      "3065.35874467\n",
      "3063.97402363\n",
      "3062.41424027\n",
      "3061.11231528\n",
      "3059.91519267\n",
      "3058.78868499\n",
      "3057.7299722\n",
      "3056.58260879\n",
      "3055.471429\n",
      "3054.46502859\n",
      "3053.49385612\n",
      "3052.64162922\n",
      "3051.87448592\n",
      "3051.08758474\n",
      "3050.34463321\n",
      "3049.68352948\n",
      "3049.04245911\n",
      "3048.4026243\n",
      "3047.7557444\n",
      "3047.09311729\n",
      "3046.40754899\n",
      "3045.7839236\n",
      "3045.16321828\n",
      "3044.55344332\n",
      "3043.95955222\n",
      "3043.34381563\n",
      "3042.65917551\n",
      "3041.92917728\n",
      "3041.1037278\n",
      "3040.3873771\n",
      "3039.69963191\n",
      "3039.04081627\n",
      "3038.402518\n",
      "3037.81293548\n",
      "3037.28040067\n",
      "3036.79248947\n",
      "3036.3113853\n",
      "3035.80608934\n",
      "3035.35120474\n",
      "3034.97536153\n",
      "3034.64961703\n",
      "3034.37527218\n",
      "3034.1784685\n",
      "3034.01913351\n",
      "3033.86460537\n",
      "3033.70606228\n",
      "3033.53258434\n",
      "3033.36259189\n",
      "3033.24625969\n",
      "3033.10098916\n",
      "3032.88975545\n",
      "3032.6846872\n",
      "3032.47843041\n",
      "3032.1793962\n",
      "3031.87579363\n",
      "3031.52720388\n",
      "3031.15880296\n",
      "3030.74661325\n",
      "3030.41314893\n",
      "3030.02350664\n",
      "3029.62469797\n",
      "3029.1832786\n",
      "3028.71800445\n",
      "3028.26552237\n",
      "3027.78596261\n",
      "3027.35180457\n",
      "3026.99426039\n",
      "3026.68264499\n",
      "3026.32699925\n",
      "3025.93703745\n",
      "3025.51079664\n",
      "3025.12990092\n",
      "3024.69827648\n",
      "3024.28392259\n",
      "3023.79711824\n",
      "3023.25456464\n",
      "3022.83099756\n",
      "3022.42038502\n",
      "3022.0679148\n",
      "3021.7092368\n",
      "3021.3724959\n",
      "3021.15971476\n",
      "3020.92276462\n",
      "3020.6992532\n",
      "3020.45563613\n",
      "3020.13260789\n",
      "3019.79156418\n",
      "3019.49268292\n",
      "3019.17776041\n",
      "3018.87424237\n",
      "3018.64054477\n",
      "3018.46965834\n",
      "3018.20098797\n",
      "3017.87712727\n",
      "3017.53281247\n",
      "3017.2658567\n",
      "3017.07757808\n",
      "3016.95901807\n",
      "3016.8680457\n",
      "3016.75784432\n",
      "3016.60127477\n",
      "3016.43121166\n",
      "3016.29169042\n",
      "3016.20406987\n",
      "3016.11720129\n",
      "3016.0250137\n",
      "3015.93701704\n",
      "3015.82472179\n",
      "3015.71500146\n",
      "3015.60781443\n",
      "3015.50928302\n",
      "3015.41410003\n",
      "3015.29652005\n",
      "3015.20072483\n",
      "3015.11576231\n",
      "3015.05673563\n",
      "3014.9812927\n",
      "3014.90929809\n",
      "3014.83749189\n",
      "3014.75489179\n",
      "3014.64334593\n",
      "3014.52860326\n",
      "3014.40678343\n",
      "3014.29695872\n",
      "3014.20422339\n",
      "3014.12229269\n",
      "3014.04027872\n",
      "3013.96204113\n",
      "3013.90043496\n",
      "3013.88252361\n",
      "3013.86671772\n",
      "3013.84194096\n",
      "3013.81031364\n",
      "3013.76285961\n",
      "3013.69143662\n",
      "3013.60082271\n",
      "3013.4968488\n",
      "3013.35665564\n",
      "3013.2016488\n",
      "3013.02639534\n",
      "3012.82033143\n",
      "3012.6652388\n",
      "3012.53076829\n",
      "3012.4090746\n",
      "3012.26896349\n",
      "3012.12856792\n",
      "3011.98554714\n",
      "3011.84445753\n",
      "3011.70855663\n",
      "3011.59256212\n",
      "3011.48675986\n",
      "3011.37219686\n",
      "3011.25200634\n",
      "3011.13363062\n",
      "3011.02852057\n",
      "3010.91010479\n",
      "3010.78812716\n",
      "3010.65671676\n",
      "3010.50499113\n",
      "3010.34375458\n",
      "3010.19370292\n",
      "3010.05264492\n",
      "3009.91746114\n",
      "3009.79262066\n",
      "3009.68559209\n",
      "3009.59277767\n",
      "3009.51331125\n",
      "3009.43344642\n",
      "3009.36112948\n",
      "3009.28628658\n",
      "3009.20562818\n",
      "3009.12824602\n",
      "3009.04023695\n",
      "3008.94176455\n",
      "3008.84278435\n",
      "3008.73762598\n",
      "3008.62648814\n",
      "3008.5118394\n",
      "3008.39014834\n",
      "3008.27623656\n",
      "3008.15569527\n",
      "3008.03162177\n",
      "3007.92127425\n",
      "3007.80570253\n",
      "3007.68407558\n",
      "3007.54070663\n",
      "3007.38666991\n",
      "3007.24117821\n",
      "3007.11118662\n",
      "3006.9958709\n",
      "3006.86918524\n",
      "3006.73437974\n",
      "3006.60674626\n",
      "3006.49330326\n",
      "3006.38207874\n",
      "3006.26541731\n",
      "3006.14929696\n",
      "3006.04203836\n",
      "3005.9579888\n",
      "3005.87309509\n",
      "3005.78575741\n",
      "3005.69845372\n",
      "3005.61542702\n",
      "3005.52586857\n",
      "3005.46013461\n",
      "3005.41110447\n",
      "3005.36060286\n",
      "3005.31119165\n",
      "3005.25502673\n",
      "3005.18171627\n",
      "3005.09153112\n",
      "3005.00313916\n",
      "3004.92721708\n",
      "3004.85513439\n",
      "3004.78316389\n",
      "3004.70107381\n",
      "3004.62260629\n",
      "3004.54767644\n",
      "3004.48077066\n",
      "3004.44430555\n",
      "3004.40641817\n",
      "3004.35211312\n",
      "3004.28849089\n",
      "3004.24002955\n",
      "3004.19851061\n",
      "3004.14790063\n",
      "3004.13496122\n",
      "3004.12299317\n",
      "3004.09881635\n",
      "3004.04862034\n",
      "3003.96392801\n",
      "3003.86436821\n",
      "3003.78919721\n",
      "3003.75912255\n",
      "3003.74545917\n",
      "3003.72096602\n",
      "3003.68065898\n",
      "3003.62533254\n",
      "3003.58721022\n",
      "3003.56499779\n",
      "3003.51907755\n",
      "3003.45884025\n",
      "3003.40348457\n",
      "3003.34559562\n",
      "3003.26345978\n",
      "3003.17659549\n",
      "3003.07586124\n",
      "3002.99918642\n",
      "3002.96846087\n",
      "3002.92870002\n",
      "3002.89332374\n",
      "3002.83684083\n",
      "3002.77586137\n",
      "3002.70543174\n",
      "3002.64226109\n",
      "3002.5654233\n",
      "3002.48121053\n",
      "3002.43141717\n",
      "3002.41955367\n",
      "3002.39627816\n",
      "3002.36044044\n",
      "3002.31366491\n",
      "3002.23790774\n",
      "3002.15752982\n",
      "3002.0758985\n",
      "3001.97780989\n",
      "3001.85656955\n",
      "3001.74373572\n",
      "3001.66857184\n",
      "3001.58243329\n",
      "3001.49864769\n",
      "3001.44454358\n",
      "3001.37895895\n",
      "3001.28658449\n",
      "3001.28787192\n"
     ]
    }
   ],
   "source": [
    "reload(clusters)\n",
    "blognames,words,data=clusters.readfile('blogdata.txt')\n",
    "coords=clusters.scaledown(data)\n",
    "clusters.draw2d(coords,blognames,jpeg='blogs2d.jpg')"
   ]
  },
  {
   "cell_type": "code",
   "execution_count": null,
   "metadata": {
    "collapsed": true
   },
   "outputs": [],
   "source": [
    "# 3d作图\n",
    "\n",
    "def scaledown3d(data,distance=pearson,rate=0.01):\n",
    "  n=len(data)\n",
    "\n",
    "  # The real distances between every pair of items\n",
    "  realdist=[[distance(data[i],data[j]) for j in range(n)] \n",
    "             for i in range(0,n)]\n",
    "\n",
    "  # Randomly initialize the starting points of the locations in 3D\n",
    "  loc=[[random.random(),random.random(),random.random()] for i in range(n)]\n",
    "  fakedist=[[0.0 for j in range(n)] for i in range(n)]\n",
    "  \n",
    "  lasterror=None\n",
    "  for m in range(0,1000):\n",
    "    # Find projected distances\n",
    "    for i in range(n):\n",
    "      for j in range(n):\n",
    "        fakedist[i][j]=sqrt(sum([pow(loc[i][x]-loc[j][x],2) \n",
    "                                 for x in range(len(loc[i]))]))\n",
    "  \n",
    "    # Move points\n",
    "    grad=[[0.0,0.0,0.0] for i in range(n)]\n",
    "    \n",
    "    totalerror=0\n",
    "    for k in range(n):\n",
    "      for j in range(n):\n",
    "        if j==k: continue\n",
    "        # The error is percent difference between the distances\n",
    "        errorterm=(fakedist[j][k]-realdist[j][k])/realdist[j][k]\n",
    "        \n",
    "        # Each point needs to be moved away from or towards the other\n",
    "        # point in proportion to how much error it has\n",
    "        grad[k][0]+=((loc[k][0]-loc[j][0])/fakedist[j][k])*errorterm\n",
    "        grad[k][1]+=((loc[k][1]-loc[j][1])/fakedist[j][k])*errorterm\n",
    "        grad[k][2]+=((loc[k][2]-loc[j][2])/fakedist[j][k])*errorterm\n",
    "\n",
    "        # Keep track of the total error\n",
    "        totalerror+=abs(errorterm)\n",
    "    print totalerror\n",
    "\n",
    "    # If the answer got worse by moving the points, we are done\n",
    "    if lasterror and lasterror<totalerror: break\n",
    "    lasterror=totalerror\n",
    "    \n",
    "    # Move each of the points by the learning rate times the gradient\n",
    "    for k in range(n):\n",
    "      loc[k][0]-=rate*grad[k][0]\n",
    "      loc[k][1]-=rate*grad[k][1]\n",
    "      loc[k][2]-=rate*grad[k][2]\n",
    "\n",
    "  return loc\n",
    "\n",
    "\n",
    "import numpy as np\n",
    "import matplotlib.pyplot as plt\n",
    "import mpl_toolkits.mplot3d\n",
    "\n",
    "def draw3d(data,labels,jpeg='mds3d.jpg'):\n",
    "  x = [data[i][0] for i in range(len(data))]\n",
    "  y = [data[i][1] for i in range(len(data))]\n",
    "  z = [data[i][2] for i in range(len(data))]\n",
    "  ax=plt.subplot(111,projection='3d')\n",
    "  ax.scatter(x,y,z,c='y') \n",
    "  ax.set_xlabel('x')\n",
    "  ax.set_ylabel('y')\n",
    "  ax.set_zlabel('z')\n",
    "\n",
    "  plt.show()"
   ]
  },
  {
   "cell_type": "code",
   "execution_count": 33,
   "metadata": {
    "collapsed": false
   },
   "outputs": [
    {
     "name": "stdout",
     "output_type": "stream",
     "text": [
      "3395.07999161\n",
      "2864.06675076\n",
      "2757.49353761\n",
      "2697.90936418\n",
      "2655.49011326\n",
      "2622.62151173\n",
      "2594.37127759\n",
      "2570.48479179\n",
      "2551.32595463\n",
      "2534.42886845\n",
      "2518.76085367\n",
      "2505.1216995\n",
      "2492.82559867\n",
      "2482.69912097\n",
      "2474.85087896\n",
      "2467.59453256\n",
      "2460.93276963\n",
      "2455.1618452\n",
      "2450.17138269\n",
      "2445.20109093\n",
      "2440.25758499\n",
      "2434.87842165\n",
      "2429.37648973\n",
      "2423.96764056\n",
      "2418.77762907\n",
      "2413.60512682\n",
      "2408.64453904\n",
      "2403.92771569\n",
      "2399.15029682\n",
      "2394.47037934\n",
      "2390.16124243\n",
      "2386.25294485\n",
      "2382.32163979\n",
      "2378.30160849\n",
      "2374.17912534\n",
      "2369.91207478\n",
      "2365.38774881\n",
      "2360.87827459\n",
      "2356.64771497\n",
      "2352.36242628\n",
      "2348.42608796\n",
      "2344.84722736\n",
      "2341.1764716\n",
      "2337.73708199\n",
      "2334.53676994\n",
      "2331.43984429\n",
      "2328.58735122\n",
      "2325.88382006\n",
      "2323.29102395\n",
      "2320.76387519\n",
      "2318.3497095\n",
      "2315.98028181\n",
      "2313.70575189\n",
      "2311.43692288\n",
      "2309.19071427\n",
      "2307.1013513\n",
      "2304.96361768\n",
      "2302.7280811\n",
      "2300.45773077\n",
      "2298.13889929\n",
      "2295.81596195\n",
      "2293.63121566\n",
      "2291.67871951\n",
      "2289.85550206\n",
      "2288.06418044\n",
      "2286.39334324\n",
      "2284.64114579\n",
      "2282.92321685\n",
      "2281.23570298\n",
      "2279.45535599\n",
      "2277.77025139\n",
      "2276.06156503\n",
      "2274.30724718\n",
      "2272.56336937\n",
      "2270.91374212\n",
      "2269.42604855\n",
      "2268.02046582\n",
      "2266.62485373\n",
      "2265.05844775\n",
      "2263.4357354\n",
      "2261.82488133\n",
      "2260.07633078\n",
      "2258.26685371\n",
      "2256.33632033\n",
      "2254.4268598\n",
      "2252.82182786\n",
      "2251.42001758\n",
      "2249.9887958\n",
      "2248.5152954\n",
      "2247.17009426\n",
      "2245.82979601\n",
      "2244.48423775\n",
      "2243.11245098\n",
      "2241.67989103\n",
      "2240.2510372\n",
      "2238.91762894\n",
      "2237.64085853\n",
      "2236.35964526\n",
      "2235.04385808\n",
      "2233.81425081\n",
      "2232.83337309\n",
      "2231.83487969\n",
      "2230.85948051\n",
      "2230.0096872\n",
      "2229.19309387\n",
      "2228.41074988\n",
      "2227.67193426\n",
      "2227.01695174\n",
      "2226.39383344\n",
      "2225.80692779\n",
      "2225.31156591\n",
      "2224.86649606\n",
      "2224.45828625\n",
      "2224.06872359\n",
      "2223.72214734\n",
      "2223.38404698\n",
      "2223.06182034\n",
      "2222.67948665\n",
      "2222.28348294\n",
      "2221.87983786\n",
      "2221.4614871\n",
      "2220.99808053\n",
      "2220.53695558\n",
      "2220.06120461\n",
      "2219.57327462\n",
      "2219.05302857\n",
      "2218.50378196\n",
      "2217.97383112\n",
      "2217.44417847\n",
      "2216.91552654\n",
      "2216.34651005\n",
      "2215.77295656\n",
      "2215.25594472\n",
      "2214.74260384\n",
      "2214.22075866\n",
      "2213.71015808\n",
      "2213.159134\n",
      "2212.59822353\n",
      "2212.0576882\n",
      "2211.57813315\n",
      "2211.13941661\n",
      "2210.67276737\n",
      "2210.27553887\n",
      "2209.93446523\n",
      "2209.5726927\n",
      "2209.19493276\n",
      "2208.88306967\n",
      "2208.66380636\n",
      "2208.47055477\n",
      "2208.31842737\n",
      "2208.16372488\n",
      "2207.99036715\n",
      "2207.8471064\n",
      "2207.71202207\n",
      "2207.56581254\n",
      "2207.46821331\n",
      "2207.34372188\n",
      "2207.17964278\n",
      "2207.0312292\n",
      "2206.91909635\n",
      "2206.81233452\n",
      "2206.69973352\n",
      "2206.62007142\n",
      "2206.5219907\n",
      "2206.45456597\n",
      "2206.39232644\n",
      "2206.31949333\n",
      "2206.25361061\n",
      "2206.20171142\n",
      "2206.14504735\n",
      "2206.07812197\n",
      "2206.00320041\n",
      "2205.90651009\n",
      "2205.79595499\n",
      "2205.6990992\n",
      "2205.58721561\n",
      "2205.46837519\n",
      "2205.3482894\n",
      "2205.21988543\n",
      "2205.11787471\n",
      "2205.00104296\n",
      "2204.87923306\n",
      "2204.76678338\n",
      "2204.66317957\n",
      "2204.5892189\n",
      "2204.54035062\n",
      "2204.53901495\n",
      "2204.52004146\n",
      "2204.52048726\n"
     ]
    },
    {
     "data": {
      "image/png": "[encoded data removed]",
      "text/plain": [
       "<matplotlib.figure.Figure at 0x7f0eca1c5790>"
      ]
     },
     "metadata": {},
     "output_type": "display_data"
    }
   ],
   "source": [
    "coords=clusters.scaledown3d(data)\n",
    "\n",
    "import scipy.io as sio  \n",
    "from mpl_toolkits.mplot3d import Axes3D\n",
    "import matplotlib.pyplot as plt\n",
    "\n",
    "x = [coords[i][0] for i in range(len(coords))]\n",
    "y = [coords[i][1] for i in range(len(coords))]\n",
    "z = [coords[i][2] for i in range(len(coords))]\n",
    "ax=plt.subplot(111,projection='3d')\n",
    "ax.scatter(x,y,z,c='b',marker='o') \n",
    "ax.set_xlabel('x')\n",
    "ax.set_ylabel('y')\n",
    "ax.set_zlabel('z')\n",
    "\n",
    "plt.show()"
   ]
  },
  {
   "cell_type": "code",
   "execution_count": 32,
   "metadata": {
    "collapsed": false
   },
   "outputs": [
    {
     "name": "stdout",
     "output_type": "stream",
     "text": [
      "3344.17971539\n",
      "2915.88355884\n",
      "2824.73586963\n",
      "2770.77100939\n",
      "2729.07831237\n",
      "2694.47136397\n",
      "2666.93039141\n",
      "2646.57108551\n",
      "2629.87268456\n",
      "2617.71367577\n",
      "2608.7044026\n",
      "2601.07991256\n",
      "2595.13156392\n",
      "2590.24554191\n",
      "2585.31025509\n",
      "2579.64781799\n",
      "2573.72625299\n",
      "2567.3050887\n",
      "2560.68685749\n",
      "2553.50175744\n",
      "2545.45383584\n",
      "2536.40395846\n",
      "2526.79735619\n",
      "2517.15396494\n",
      "2507.9043314\n",
      "2499.12380152\n",
      "2490.46723791\n",
      "2482.03596188\n",
      "2474.7065451\n",
      "2468.95914157\n",
      "2463.77956997\n",
      "2459.18762611\n",
      "2455.0668137\n",
      "2451.14105508\n",
      "2447.48291796\n",
      "2444.11898367\n",
      "2440.70226352\n",
      "2437.25742273\n",
      "2433.88091107\n",
      "2430.34235122\n",
      "2426.79438044\n",
      "2423.22782151\n",
      "2420.02771803\n",
      "2416.92735854\n",
      "2413.69034658\n",
      "2410.46260032\n",
      "2407.47361878\n",
      "2404.50240395\n",
      "2401.36936377\n",
      "2397.91031722\n",
      "2394.38854987\n",
      "2390.85148324\n",
      "2387.22469045\n",
      "2383.81429519\n",
      "2380.77865354\n",
      "2377.93199235\n",
      "2375.29885001\n",
      "2372.847728\n",
      "2370.2762019\n",
      "2367.73876704\n",
      "2365.39979223\n",
      "2363.10128256\n",
      "2360.83477952\n",
      "2358.33263561\n",
      "2355.85398834\n",
      "2353.43064486\n",
      "2350.86365903\n",
      "2348.2835886\n",
      "2345.72877341\n",
      "2343.39012312\n",
      "2341.09299397\n",
      "2338.78192146\n",
      "2336.72883121\n",
      "2334.81304314\n",
      "2332.88912007\n",
      "2331.14396523\n",
      "2329.66070545\n",
      "2328.23553302\n",
      "2326.90772426\n",
      "2325.47433346\n",
      "2323.84887153\n",
      "2322.1646648\n",
      "2320.47193238\n",
      "2318.8024013\n",
      "2317.13128585\n",
      "2315.53622744\n",
      "2313.92460063\n",
      "2312.34099583\n",
      "2310.82607415\n",
      "2309.37095324\n",
      "2307.99653264\n",
      "2306.83298462\n",
      "2305.78870738\n",
      "2304.94146455\n",
      "2304.13614164\n",
      "2303.31317109\n",
      "2302.41786852\n",
      "2301.52902386\n",
      "2300.77596918\n",
      "2300.01631071\n",
      "2299.3429759\n",
      "2298.7154231\n",
      "2298.19829602\n",
      "2297.69729267\n",
      "2297.20358669\n",
      "2296.73981577\n",
      "2296.32195189\n",
      "2295.95585443\n",
      "2295.54772728\n",
      "2295.16438831\n",
      "2294.78912873\n",
      "2294.42638913\n",
      "2294.04084058\n",
      "2293.6775451\n",
      "2293.31167522\n",
      "2292.87760813\n",
      "2292.46611868\n",
      "2292.11209439\n",
      "2291.71121993\n",
      "2291.2635761\n",
      "2290.81310183\n",
      "2290.39127897\n",
      "2289.99694982\n",
      "2289.63821818\n",
      "2289.27562091\n",
      "2288.89805543\n",
      "2288.59397982\n",
      "2288.24608381\n",
      "2287.85939262\n",
      "2287.47460597\n",
      "2287.06306581\n",
      "2286.67294554\n",
      "2286.31422809\n",
      "2286.03122576\n",
      "2285.7362949\n",
      "2285.46250756\n",
      "2285.23104842\n",
      "2284.98419836\n",
      "2284.6984252\n",
      "2284.37821441\n",
      "2284.04705002\n",
      "2283.66230719\n",
      "2283.23832823\n",
      "2282.82548353\n",
      "2282.41673787\n",
      "2281.98600909\n",
      "2281.52999855\n",
      "2281.05337588\n",
      "2280.56176605\n",
      "2280.0656199\n",
      "2279.64167779\n",
      "2279.25004075\n",
      "2278.87278347\n",
      "2278.51204146\n",
      "2278.16299016\n",
      "2277.80962428\n",
      "2277.42708341\n",
      "2277.04449759\n",
      "2276.65193185\n",
      "2276.22847712\n",
      "2275.85073431\n",
      "2275.49725083\n",
      "2275.14126903\n",
      "2274.78895935\n",
      "2274.45342978\n",
      "2274.11706173\n",
      "2273.80101513\n",
      "2273.4705473\n",
      "2273.14508794\n",
      "2272.79863977\n",
      "2272.41197262\n",
      "2272.01802852\n",
      "2271.60772541\n",
      "2271.19113299\n",
      "2270.81948743\n",
      "2270.43348688\n",
      "2270.06724513\n",
      "2269.67091795\n",
      "2269.26995246\n",
      "2268.86893388\n",
      "2268.47140291\n",
      "2268.04174012\n",
      "2267.58871999\n",
      "2267.11868701\n",
      "2266.65019234\n",
      "2266.17431428\n",
      "2265.66039712\n",
      "2265.14946672\n",
      "2264.6548855\n",
      "2264.2102945\n",
      "2263.76187126\n",
      "2263.36952818\n",
      "2262.99404662\n",
      "2262.65114953\n",
      "2262.30611692\n",
      "2261.94331776\n",
      "2261.576359\n",
      "2261.22439068\n",
      "2260.8727108\n",
      "2260.52553901\n",
      "2260.18061566\n",
      "2259.84089178\n",
      "2259.48755042\n",
      "2259.10860716\n",
      "2258.7512823\n",
      "2258.36668511\n",
      "2257.94746649\n",
      "2257.53096169\n",
      "2257.11083012\n",
      "2256.6714352\n",
      "2256.19438456\n",
      "2255.69547596\n",
      "2255.20433705\n",
      "2254.70577407\n",
      "2254.27325637\n",
      "2253.87969926\n",
      "2253.4901296\n",
      "2253.05710336\n",
      "2252.63802522\n",
      "2252.16754416\n",
      "2251.66929202\n",
      "2251.14467122\n",
      "2250.59912626\n",
      "2250.08645589\n",
      "2249.54775996\n",
      "2248.96021954\n",
      "2248.36065265\n",
      "2247.8055695\n",
      "2247.305658\n",
      "2246.81435483\n",
      "2246.42379745\n",
      "2246.05604422\n",
      "2245.73445498\n",
      "2245.43954164\n",
      "2245.19642526\n",
      "2244.96197795\n",
      "2244.74499128\n",
      "2244.54560313\n",
      "2244.33801968\n",
      "2244.13399598\n",
      "2243.88782054\n",
      "2243.63047423\n",
      "2243.39355014\n",
      "2243.15620544\n",
      "2242.90726525\n",
      "2242.69248989\n",
      "2242.45437087\n",
      "2242.20510239\n",
      "2241.92447678\n",
      "2241.63916815\n",
      "2241.36792319\n",
      "2241.08205703\n",
      "2240.78372819\n",
      "2240.51936174\n",
      "2240.24302031\n",
      "2239.92960294\n",
      "2239.59210298\n",
      "2239.23421536\n",
      "2238.84999743\n",
      "2238.45409393\n",
      "2238.04039503\n",
      "2237.63254889\n",
      "2237.21620073\n",
      "2236.84368597\n",
      "2236.4817324\n",
      "2236.13625726\n",
      "2235.77593473\n",
      "2235.38131141\n",
      "2234.94204076\n",
      "2234.48601301\n",
      "2234.00938113\n",
      "2233.54283335\n",
      "2233.11507766\n",
      "2232.68971312\n",
      "2232.28130242\n",
      "2231.86911504\n",
      "2231.46009809\n",
      "2231.01508011\n",
      "2230.56871513\n",
      "2230.1072793\n",
      "2229.64230346\n",
      "2229.16064896\n",
      "2228.67152424\n",
      "2228.16164985\n",
      "2227.66681368\n",
      "2227.17355173\n",
      "2226.69319775\n",
      "2226.28517624\n",
      "2225.88303485\n",
      "2225.50915262\n",
      "2225.16492395\n",
      "2224.84647871\n",
      "2224.5467113\n",
      "2224.25942535\n",
      "2223.96586454\n",
      "2223.66064549\n",
      "2223.3795114\n",
      "2223.14556012\n",
      "2222.91217299\n",
      "2222.70153341\n",
      "2222.47974967\n",
      "2222.27443946\n",
      "2222.09075745\n",
      "2221.92717861\n",
      "2221.7820683\n",
      "2221.63209467\n",
      "2221.48632778\n",
      "2221.33652074\n",
      "2221.19932445\n",
      "2221.09439208\n",
      "2220.9722285\n",
      "2220.81629592\n",
      "2220.67574909\n",
      "2220.55987363\n",
      "2220.50498349\n",
      "2220.4500256\n",
      "2220.42767171\n",
      "2220.41506393\n",
      "2220.39379931\n",
      "2220.33581532\n",
      "2220.2493367\n",
      "2220.16401996\n",
      "2220.11788871\n",
      "2220.07287886\n",
      "2220.00016617\n",
      "2219.95740257\n",
      "2219.90695867\n",
      "2219.85848553\n",
      "2219.79696113\n",
      "2219.72568974\n",
      "2219.67251648\n",
      "2219.62023931\n",
      "2219.56871308\n",
      "2219.52368534\n",
      "2219.48390367\n",
      "2219.46593274\n",
      "2219.4402865\n",
      "2219.42383046\n",
      "2219.43987023\n"
     ]
    },
    {
     "data": {
      "image/png": "[encoded data removed]",
      "text/plain": [
       "<matplotlib.figure.Figure at 0x7f0ecab96dd0>"
      ]
     },
     "metadata": {},
     "output_type": "display_data"
    }
   ],
   "source": [
    "reload(clusters)\n",
    "blognames,words,data=clusters.readfile('blogdata.txt')\n",
    "coords=clusters.scaledown3d(data)\n",
    "clusters.draw3d(coords,blognames,jpeg='blogs2d.jpg')"
   ]
  },
  {
   "cell_type": "code",
   "execution_count": null,
   "metadata": {
    "collapsed": true
   },
   "outputs": [],
   "source": []
  }
 ],
 "metadata": {
  "anaconda-cloud": {},
  "kernelspec": {
   "display_name": "Python [default]",
   "language": "python",
   "name": "python2"
  },
  "language_info": {
   "codemirror_mode": {
    "name": "ipython",
    "version": 2
   },
   "file_extension": ".py",
   "mimetype": "text/x-python",
   "name": "python",
   "nbconvert_exporter": "python",
   "pygments_lexer": "ipython2",
   "version": "2.7.12"
  },
  "nbpresent": {
   "slides": {
    "02104eae-435e-4f0f-8536-8ba6e75865e0": {
     "id": "02104eae-435e-4f0f-8536-8ba6e75865e0",
     "prev": "bab57283-90f1-4904-97cd-58e89ddfba34",
     "regions": {
      "ae6acdbb-4253-42c9-9cd2-31fd0eb91af8": {
       "attrs": {
        "height": 0.8,
        "width": 0.8,
        "x": 0.1,
        "y": 0.1
       },
       "content": {
        "cell": "36cb45f2-e364-4526-ad90-0685d6c471ad",
        "part": "whole"
       },
       "id": "ae6acdbb-4253-42c9-9cd2-31fd0eb91af8"
      }
     }
    },
    "303751c1-ce53-4a81-ae15-daf463caf72a": {
     "id": "303751c1-ce53-4a81-ae15-daf463caf72a",
     "prev": "7b94983b-cfe8-4cd8-8ede-2ac339bb9632",
     "regions": {
      "5c2f0bb8-4851-4da0-bf12-2467ca69b2d7": {
       "attrs": {
        "height": 0.8,
        "width": 0.8,
        "x": 0.1,
        "y": 0.1
       },
       "content": {
        "cell": "ff8b231b-5786-4def-931f-702dc6b1e07d",
        "part": "whole"
       },
       "id": "5c2f0bb8-4851-4da0-bf12-2467ca69b2d7"
      }
     }
    },
    "60513373-d343-427e-9664-be5349968910": {
     "id": "60513373-d343-427e-9664-be5349968910",
     "prev": "fe8ae89d-14d8-445f-97b6-fdfad7ec1ad7",
     "regions": {
      "c18775d4-5aef-47da-b421-bc41ddb4266f": {
       "attrs": {
        "height": 0.8,
        "width": 0.8,
        "x": 0.1,
        "y": 0.1
       },
       "content": {
        "cell": "2cc265f9-e324-4366-9e58-f561ecf7cd01",
        "part": "whole"
       },
       "id": "c18775d4-5aef-47da-b421-bc41ddb4266f"
      }
     }
    },
    "62864bf5-b952-4697-a300-cfede7b1acbc": {
     "id": "62864bf5-b952-4697-a300-cfede7b1acbc",
     "prev": "b3666bb6-4a2f-472b-817a-ee294f75b037",
     "regions": {
      "bc5b75e3-f418-45fd-ab44-17a97503b030": {
       "attrs": {
        "height": 0.8,
        "width": 0.8,
        "x": 0.1,
        "y": 0.1
       },
       "content": {
        "cell": "30bd6f1e-5e69-42aa-9bc3-a63a110a274b",
        "part": "whole"
       },
       "id": "bc5b75e3-f418-45fd-ab44-17a97503b030"
      }
     }
    },
    "7b94983b-cfe8-4cd8-8ede-2ac339bb9632": {
     "id": "7b94983b-cfe8-4cd8-8ede-2ac339bb9632",
     "prev": "e5fc06c6-ff89-41ee-b908-653113ba366d",
     "regions": {
      "5816de7c-8a17-4a02-9066-f3b985d4926a": {
       "attrs": {
        "height": 0.8,
        "width": 0.8,
        "x": 0.1,
        "y": 0.1
       },
       "content": {
        "cell": "d4e55360-3cf9-45ae-836b-e2ed0f03d246",
        "part": "whole"
       },
       "id": "5816de7c-8a17-4a02-9066-f3b985d4926a"
      }
     }
    },
    "81dcd062-0902-4264-91e5-e7fdd3f61e23": {
     "id": "81dcd062-0902-4264-91e5-e7fdd3f61e23",
     "prev": "60513373-d343-427e-9664-be5349968910",
     "regions": {
      "663232d1-5a9a-4dc5-bfea-fb86eca4c8cf": {
       "attrs": {
        "height": 0.8,
        "width": 0.8,
        "x": 0.1,
        "y": 0.1
       },
       "content": {
        "cell": "ffdfefca-6b7b-4bb5-8255-b45de49b93e0",
        "part": "whole"
       },
       "id": "663232d1-5a9a-4dc5-bfea-fb86eca4c8cf"
      }
     }
    },
    "a936673c-b97b-47b8-8c43-865b332b20c7": {
     "id": "a936673c-b97b-47b8-8c43-865b332b20c7",
     "prev": null,
     "regions": {
      "a57be238-01d2-49cf-948b-92ae39b527b8": {
       "attrs": {
        "height": 0.8,
        "width": 0.8,
        "x": 0.1,
        "y": 0.1
       },
       "content": {
        "cell": "e2c5b4de-a525-4f19-bea0-25e19a7afa5c",
        "part": "whole"
       },
       "id": "a57be238-01d2-49cf-948b-92ae39b527b8"
      }
     }
    },
    "b3666bb6-4a2f-472b-817a-ee294f75b037": {
     "id": "b3666bb6-4a2f-472b-817a-ee294f75b037",
     "prev": "a936673c-b97b-47b8-8c43-865b332b20c7",
     "regions": {
      "f1ba5a9a-e421-4237-bfdd-3b9cc74f45ce": {
       "attrs": {
        "height": 0.8,
        "width": 0.8,
        "x": 0.1,
        "y": 0.1
       },
       "content": {
        "cell": "d3efae32-f2fc-485a-97f2-bb8e14fd362e",
        "part": "whole"
       },
       "id": "f1ba5a9a-e421-4237-bfdd-3b9cc74f45ce"
      }
     }
    },
    "bab57283-90f1-4904-97cd-58e89ddfba34": {
     "id": "bab57283-90f1-4904-97cd-58e89ddfba34",
     "prev": "81dcd062-0902-4264-91e5-e7fdd3f61e23",
     "regions": {
      "8bf3f14d-85a4-4815-b296-5b8f6e2fe14f": {
       "attrs": {
        "height": 0.8,
        "width": 0.8,
        "x": 0.1,
        "y": 0.1
       },
       "content": {
        "cell": "b5a985b2-32f3-484f-b67d-1e772a01e5f5",
        "part": "whole"
       },
       "id": "8bf3f14d-85a4-4815-b296-5b8f6e2fe14f"
      }
     }
    },
    "c05f4a7f-5873-45e1-a14d-77ff6d20f751": {
     "id": "c05f4a7f-5873-45e1-a14d-77ff6d20f751",
     "prev": "d3ed5c82-f507-4cc8-8010-870ade936d99",
     "regions": {
      "815d9575-9997-4c04-b3a0-82ff02702312": {
       "attrs": {
        "height": 0.8,
        "width": 0.8,
        "x": 0.1,
        "y": 0.1
       },
       "content": {
        "cell": "1daaf72c-1956-4b59-b4d5-f5296e9017c3",
        "part": "whole"
       },
       "id": "815d9575-9997-4c04-b3a0-82ff02702312"
      }
     }
    },
    "d3ed5c82-f507-4cc8-8010-870ade936d99": {
     "id": "d3ed5c82-f507-4cc8-8010-870ade936d99",
     "prev": "62864bf5-b952-4697-a300-cfede7b1acbc",
     "regions": {
      "e3970040-a96e-4ecb-bfa5-7073e48a9bb4": {
       "attrs": {
        "height": 0.8,
        "width": 0.8,
        "x": 0.1,
        "y": 0.1
       },
       "content": {
        "cell": "dd13b9c0-aaf8-481b-b562-6895300f2b9b",
        "part": "whole"
       },
       "id": "e3970040-a96e-4ecb-bfa5-7073e48a9bb4"
      }
     }
    },
    "e3d26e7c-8048-4ceb-a80a-a0909eea7a4c": {
     "id": "e3d26e7c-8048-4ceb-a80a-a0909eea7a4c",
     "prev": "c05f4a7f-5873-45e1-a14d-77ff6d20f751",
     "regions": {
      "f0090269-25c8-4adc-85c5-8ddfb62256ea": {
       "attrs": {
        "height": 0.8,
        "width": 0.8,
        "x": 0.1,
        "y": 0.1
       },
       "content": {
        "cell": "1745beb2-c3af-4ef8-b6d2-29c91c22931d",
        "part": "whole"
       },
       "id": "f0090269-25c8-4adc-85c5-8ddfb62256ea"
      }
     }
    },
    "e5fc06c6-ff89-41ee-b908-653113ba366d": {
     "id": "e5fc06c6-ff89-41ee-b908-653113ba366d",
     "prev": "e3d26e7c-8048-4ceb-a80a-a0909eea7a4c",
     "regions": {
      "b30714e9-78af-4865-aee0-2095f8c5f303": {
       "attrs": {
        "height": 0.8,
        "width": 0.8,
        "x": 0.1,
        "y": 0.1
       },
       "content": {
        "cell": "a5995827-a1d6-4db3-9426-4b3ad23df3b0",
        "part": "whole"
       },
       "id": "b30714e9-78af-4865-aee0-2095f8c5f303"
      }
     },
     "theme": "44c91e97-ab5f-4bd1-8197-2744a0a97dba"
    },
    "fe8ae89d-14d8-445f-97b6-fdfad7ec1ad7": {
     "id": "fe8ae89d-14d8-445f-97b6-fdfad7ec1ad7",
     "prev": "303751c1-ce53-4a81-ae15-daf463caf72a",
     "regions": {
      "9a48389f-4af9-45d4-bb81-92e01fd9375e": {
       "attrs": {
        "height": 0.8,
        "width": 0.8,
        "x": 0.1,
        "y": 0.1
       },
       "content": {
        "cell": "ddd4ccd7-fbc7-4da6-86f1-c1c30e80f6cd",
        "part": "whole"
       },
       "id": "9a48389f-4af9-45d4-bb81-92e01fd9375e"
      }
     }
    }
   },
   "themes": {
    "default": "44c91e97-ab5f-4bd1-8197-2744a0a97dba",
    "theme": {
     "44c91e97-ab5f-4bd1-8197-2744a0a97dba": {
      "backgrounds": {
       "backgroundColor": {
        "background-color": "backgroundColor",
        "id": "backgroundColor"
       }
      },
      "id": "44c91e97-ab5f-4bd1-8197-2744a0a97dba",
      "palette": {
       "backgroundColor": {
        "id": "backgroundColor",
        "rgb": [
         34,
         34,
         34
        ]
       },
       "headingColor": {
        "id": "headingColor",
        "rgb": [
         238,
         238,
         238
        ]
       },
       "linkColor": {
        "id": "linkColor",
        "rgb": [
         170,
         34,
         51
        ]
       },
       "mainColor": {
        "id": "mainColor",
        "rgb": [
         238,
         238,
         238
        ]
       }
      },
      "rules": {
       "a": {
        "color": "linkColor"
       },
       "h1": {
        "color": "headingColor",
        "font-family": "Ubuntu",
        "font-size": 7
       },
       "h2": {
        "color": "headingColor",
        "font-family": "Ubuntu",
        "font-size": 5
       },
       "h3": {
        "color": "headingColor",
        "font-family": "Ubuntu",
        "font-size": 3.75
       },
       "h4": {
        "color": "headingColor",
        "font-family": "Ubuntu",
        "font-size": 3
       },
       "h5": {
        "color": "headingColor",
        "font-family": "Ubuntu"
       },
       "h6": {
        "color": "headingColor",
        "font-family": "Ubuntu"
       },
       "h7": {
        "color": "headingColor",
        "font-family": "Ubuntu"
       },
       "li": {
        "color": "mainColor",
        "font-family": "Ubuntu",
        "font-size": 5
       },
       "p": {
        "color": "mainColor",
        "font-family": "Ubuntu",
        "font-size": 5
       }
      },
      "text-base": {
       "color": "mainColor",
       "font-family": "Ubuntu",
       "font-size": 5
      }
     }
    }
   }
  }
 },
 "nbformat": 4,
 "nbformat_minor": 1
}
