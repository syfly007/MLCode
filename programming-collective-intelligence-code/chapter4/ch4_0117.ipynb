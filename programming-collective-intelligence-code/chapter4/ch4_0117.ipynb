{
 "cells": [
  {
   "cell_type": "markdown",
   "metadata": {},
   "source": [
    "### Setting Up The Schema\n",
    "![](fig4-1.png)\n",
    "- The first table (urllist) is the list of URLs that have been indexed\n",
    "- The second table (wordlist) is the list of words\n",
    "- The third table (wordlocation) is a list of the locations of words in the documents\n",
    "- The link table stores two URL IDs,indicating a link from one table to another\n",
    "- linkwords uses the wordid and linkid columns to store which words are actually used in that link\n",
    "\n",
    "All tables in SQLite have a field called rowid by default, so there’s no need to explicitly specify an ID for these tables. To create a function for adding all the tables:"
   ]
  },
  {
   "cell_type": "code",
   "execution_count": null,
   "metadata": {
    "collapsed": true
   },
   "outputs": [],
   "source": [
    "createindextables\n",
    "def createindextables(self):\n",
    "    self.con.execute('create table urllist(url)')\n",
    "    self.con.execute('create table wordlist(word)')\n",
    "    self.con.execute('create table wordlocation(urlid,wordid,location)')\n",
    "    self.con.execute('create table link(fromid integer,toid integer)')\n",
    "    self.con.execute('create table linkwords(wordid,linkid)')\n",
    "    self.con.execute('create index wordidx on wordlist(word)')\n",
    "    self.con.execute('create index urlidx on urllist(url)')\n",
    "    self.con.execute('create index wordurlidx on wordlocation(wordid)')\n",
    "    self.con.execute('create index urltoidx on link(toid)')\n",
    "    self.con.execute('create index urlfromidx on link(fromid)')\n",
    "    self.dbcommit( )    \n"
   ]
  },
  {
   "cell_type": "code",
   "execution_count": null,
   "metadata": {
    "collapsed": true
   },
   "outputs": [],
   "source": [
    "import mySearchengine\n",
    "crawler=mySearchengine.crawler('searchindex.db')\n",
    "crawler.createindextables() "
   ]
  },
  {
   "cell_type": "markdown",
   "metadata": {},
   "source": [
    "Later you’ll be adding an additional table to the schema for a scoring metric based on counting inbound links."
   ]
  },
  {
   "cell_type": "markdown",
   "metadata": {
    "collapsed": true
   },
   "source": [
    "### Finding The Words On A Page\n",
    "\n",
    "The firststep is to extract all the parts of the page that are text.You can do this by searching the soup for text nodes and collecting all their content."
   ]
  },
  {
   "cell_type": "code",
   "execution_count": null,
   "metadata": {
    "collapsed": true
   },
   "outputs": [],
   "source": [
    "def gettextonly(self, soup):\n",
    "    v = soup.string\n",
    "    if v == None:\n",
    "        c = soup.contents\n",
    "        resulttext = ''\n",
    "        for t in c:\n",
    "            subtext = self.gettextonly(t)\n",
    "            resulttext += subtext + '\\n'\n",
    "            return resulttext\n",
    "    else:\n",
    "        return v.strip()"
   ]
  },
  {
   "cell_type": "markdown",
   "metadata": {},
   "source": [
    "The function returns a long string containing all the text on the page.\n",
    "\n",
    "Next is the separatewords function, which splits a string into a list of separate words so that they can be added to the index.You can do this using a regular expression. Replace the definition of separatewords with the following:"
   ]
  },
  {
   "cell_type": "code",
   "execution_count": null,
   "metadata": {
    "collapsed": true
   },
   "outputs": [],
   "source": [
    "def separatewords(self, text):\n",
    "    splitter = re.compile('\\\\W*')\n",
    "    return [s.lower() for s in splitter.split(text) if s != '']"
   ]
  },
  {
   "cell_type": "code",
   "execution_count": null,
   "metadata": {
    "collapsed": true
   },
   "outputs": [],
   "source": []
  }
 ],
 "metadata": {
  "anaconda-cloud": {},
  "kernelspec": {
   "display_name": "Python [default]",
   "language": "python",
   "name": "python2"
  },
  "toc": {
   "colors": {
    "hover_highlight": "#DAA520",
    "running_highlight": "#FF0000",
    "selected_highlight": "#FFD700"
   },
   "moveMenuLeft": true,
   "nav_menu": {
    "height": "30px",
    "width": "252px"
   },
   "navigate_menu": true,
   "number_sections": false,
   "sideBar": true,
   "threshold": 4,
   "toc_cell": false,
   "toc_section_display": "block",
   "toc_window_display": true
  }
 },
 "nbformat": 4,
 "nbformat_minor": 1
}
