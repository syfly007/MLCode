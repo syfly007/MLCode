{
 "cells": [
  {
   "cell_type": "markdown",
   "metadata": {},
   "source": [
    "# 机器学习的基础"
   ]
  },
  {
   "cell_type": "markdown",
   "metadata": {},
   "source": [
    "## 1.1 编程语言与开发环境"
   ]
  },
  {
   "cell_type": "code",
   "execution_count": 6,
   "metadata": {
    "collapsed": false
   },
   "outputs": [
    {
     "data": {
      "image/png": "[encoded data removed]",
      "text/plain": [
       "<matplotlib.figure.Figure at 0x7f68800ac450>"
      ]
     },
     "metadata": {},
     "output_type": "display_data"
    }
   ],
   "source": [
    "# -*- coding: utf-8 -*-\n",
    "# Filename:mytest1.py\n",
    "\n",
    "import numpy as np\n",
    "from numpy import *\n",
    "import matplotlib.pyplot as plt\n",
    "\n",
    "dataSet = [[-0.017612,14.053064],[-1.395634\t,4.662541],[-0.752157\t,6.538620],[-1.322371\t,7.152853],\n",
    "[0.423363\t,11.054677],[0.406704\t,7.067335],[0.667394\t,12.741452],[-2.460150\t,6.866805],\n",
    "[0.569411\t,9.548755],[-0.026632\t,10.427743],[0.850433\t,6.920334],[1.347183\t,13.175500],\n",
    "[1.176813\t,3.167020],[-1.781871\t,9.097953]]\n",
    "\n",
    "dataMat = mat(dataSet).T #将数据集转换为NumPy矩阵，并转置\n",
    "plt.scatter(dataMat[0],dataMat[1],c='red',marker='o') #绘制数据集散点图\n",
    "\n",
    "#绘制直线图形\n",
    "X = np.linspace(-2,2,100) #产生直线数据集\n",
    "#建立线性方程\n",
    "Y = 2.8*X+9\n",
    "\n",
    "plt.plot(X,Y) #绘制直线图\n",
    "plt.show()"
   ]
  },
  {
   "cell_type": "markdown",
   "metadata": {
    "collapsed": true
   },
   "source": [
    "## 1.2 对象、矩阵与矢量化编程"
   ]
  },
  {
   "cell_type": "markdown",
   "metadata": {},
   "source": [
    "### 1.2.1 对象和维度"
   ]
  },
  {
   "cell_type": "markdown",
   "metadata": {},
   "source": [
    "### 1.2.2 初识矩阵"
   ]
  },
  {
   "cell_type": "markdown",
   "metadata": {
    "collapsed": true
   },
   "source": [
    "### 1.2.3 矢量化编程和GPU运算"
   ]
  },
  {
   "cell_type": "markdown",
   "metadata": {},
   "source": [
    "传统的计算机语言是针对标量的，程序设计复杂度比较高。"
   ]
  },
  {
   "cell_type": "code",
   "execution_count": 9,
   "metadata": {
    "collapsed": false
   },
   "outputs": [
    {
     "name": "stdout",
     "output_type": "stream",
     "text": [
      "[10, 20, 30, 40, 50]\n"
     ]
    }
   ],
   "source": [
    "mylist = [1,2,3,4,5]\n",
    "length = len(mylist)\n",
    "a = 10\n",
    "for indx in xrange(length):\n",
    "    mylist[indx] = a*mylist[indx]\n",
    "print mylist"
   ]
  },
  {
   "cell_type": "markdown",
   "metadata": {},
   "source": [
    "基于矩阵的算法都是针对向量的。处理基于矩阵的基本运算，就是矢量化编程。\n",
    "最早实现矢量化编程的语言是MATLAB，极大降低数学领域程序设计复杂度，大量的人工智能算法最早都是用MATLAB编写的。"
   ]
  },
  {
   "cell_type": "markdown",
   "metadata": {},
   "source": [
    "扩展包NumPy提供了专门的矩阵数据结构和线性代数库。例如："
   ]
  },
  {
   "cell_type": "code",
   "execution_count": 35,
   "metadata": {
    "collapsed": false
   },
   "outputs": [
    {
     "name": "stdout",
     "output_type": "stream",
     "text": [
      "[[10 20 30 40 50]]\n"
     ]
    }
   ],
   "source": [
    "import numpy as np\n",
    "\n",
    "mylist = [1,2,3,4,5]\n",
    "a = 10\n",
    "mymatrix = np.mat(mylist)\n",
    "print a*mymatrix"
   ]
  },
  {
   "cell_type": "markdown",
   "metadata": {},
   "source": [
    "矢量化编程的一个重要特点就是可以直接将数学公式转化为相应的程序代码。\n",
    "\n",
    "英伟达(nVidia)公司在 1999 年发布 GeForce256 图形处理芯片时首先提出了 GPU 运算的概念。十几年的发展使单个 GPU 芯片在浮点运算、大规模并行计算方面，可以 提供数十倍乃至上百倍于 CPU 的性能。GPU 的流处理器也由几十个增加到最新的三千 多个，浮点运算 TFlops 值也达到 5 以上。本书的第十章的深度学习部分专门讲解了 GPU 运算的 Python 框架 Theano。"
   ]
  },
  {
   "cell_type": "markdown",
   "metadata": {},
   "source": [
    "### 1.2.4 理解数学公式与 Numpy 矩阵运算"
   ]
  },
  {
   "cell_type": "markdown",
   "metadata": {},
   "source": [
    "1.矩阵的初始化"
   ]
  },
  {
   "cell_type": "code",
   "execution_count": 12,
   "metadata": {
    "collapsed": false
   },
   "outputs": [],
   "source": [
    "import numpy as np # 导入 numpy 包"
   ]
  },
  {
   "cell_type": "markdown",
   "metadata": {},
   "source": [
    "1.1 创建一个 3*5 的全零矩阵和全 1 矩阵"
   ]
  },
  {
   "cell_type": "code",
   "execution_count": 44,
   "metadata": {
    "collapsed": false
   },
   "outputs": [
    {
     "name": "stdout",
     "output_type": "stream",
     "text": [
      "[[ 0.  0.  0.  0.  0.]\n",
      " [ 0.  0.  0.  0.  0.]\n",
      " [ 0.  0.  0.  0.  0.]]\n",
      "[[ 1.  1.  1.  1.  1.]\n",
      " [ 1.  1.  1.  1.  1.]\n",
      " [ 1.  1.  1.  1.  1.]]\n"
     ]
    }
   ],
   "source": [
    "myZeros = np.zeros([3,5])\n",
    "print myZeros\n",
    "myOnes = np.ones([3,5]) # np.ones((3,5))\n",
    "print myOnes"
   ]
  },
  {
   "cell_type": "markdown",
   "metadata": {
    "collapsed": true
   },
   "source": [
    "1.2 生成随机矩阵"
   ]
  },
  {
   "cell_type": "code",
   "execution_count": 16,
   "metadata": {
    "collapsed": false
   },
   "outputs": [
    {
     "name": "stdout",
     "output_type": "stream",
     "text": [
      "[[ 0.112767    0.65709419  0.02060741  0.0466832 ]\n",
      " [ 0.93072145  0.45864437  0.83753068  0.56442171]\n",
      " [ 0.39765701  0.68503257  0.17430428  0.38624345]]\n"
     ]
    }
   ],
   "source": [
    "myRand = np.random.rand(3,4) #3*4的0~1之间的随机数\n",
    "print myRand"
   ]
  },
  {
   "cell_type": "markdown",
   "metadata": {},
   "source": [
    "1.3 单位矩阵"
   ]
  },
  {
   "cell_type": "code",
   "execution_count": 18,
   "metadata": {
    "collapsed": false
   },
   "outputs": [
    {
     "name": "stdout",
     "output_type": "stream",
     "text": [
      "[[ 1.  0.  0.]\n",
      " [ 0.  1.  0.]\n",
      " [ 0.  0.  1.]]\n"
     ]
    }
   ],
   "source": [
    "myEye = np.eye(3) #3*3的单位矩阵\n",
    "print myEye"
   ]
  },
  {
   "cell_type": "markdown",
   "metadata": {},
   "source": [
    "2.矩阵的元素运算： 是指矩阵在元素级别的加、减、乘、除运算"
   ]
  },
  {
   "cell_type": "code",
   "execution_count": 19,
   "metadata": {
    "collapsed": true
   },
   "outputs": [],
   "source": [
    "from numpy import * #导入 numpy 包"
   ]
  },
  {
   "cell_type": "markdown",
   "metadata": {},
   "source": [
    "2.1 元素相加和相减：条件，矩阵的行数和列数必须相同\n",
    "\n",
    "数学公式： (A ± B)i,j Ai,j ± Bi,j"
   ]
  },
  {
   "cell_type": "code",
   "execution_count": 29,
   "metadata": {
    "collapsed": false
   },
   "outputs": [
    {
     "name": "stdout",
     "output_type": "stream",
     "text": [
      "[[ 2.  1.  1.]\n",
      " [ 1.  2.  1.]\n",
      " [ 1.  1.  2.]]\n",
      "[[ 0.  1.  1.]\n",
      " [ 1.  0.  1.]\n",
      " [ 1.  1.  0.]]\n"
     ]
    }
   ],
   "source": [
    "myOnes = ones([3,3])\n",
    "myEye = eye(3)\n",
    "print myOnes + myEye\n",
    "print myOnes - myEye"
   ]
  },
  {
   "cell_type": "markdown",
   "metadata": {},
   "source": [
    "2.2 矩阵数乘：一个数乘以一个矩阵\n",
    "\n",
    "数学公式：(cA)i,j = c ·Ai,j."
   ]
  },
  {
   "cell_type": "code",
   "execution_count": 34,
   "metadata": {
    "collapsed": false
   },
   "outputs": [
    {
     "name": "stdout",
     "output_type": "stream",
     "text": [
      "[[10 20 30]\n",
      " [40 50 60]\n",
      " [70 80 90]]\n"
     ]
    }
   ],
   "source": [
    "mymatrix = mat([[1,2,3],[4,5,6],[7,8,9]])\n",
    "a = 10\n",
    "print a*mymatrix"
   ]
  },
  {
   "cell_type": "markdown",
   "metadata": {},
   "source": [
    "2.3 矩阵所有元素求和："
   ]
  },
  {
   "cell_type": "code",
   "execution_count": 36,
   "metadata": {
    "collapsed": false
   },
   "outputs": [
    {
     "name": "stdout",
     "output_type": "stream",
     "text": [
      "45\n"
     ]
    }
   ],
   "source": [
    "mymatrix = mat([[1,2,3],[4,5,6],[7,8,9]])\n",
    "print sum(mymatrix)"
   ]
  },
  {
   "cell_type": "markdown",
   "metadata": {},
   "source": [
    "2.4 矩阵各元素的积： 矩阵的点乘同维对应元素的相乘。 当矩阵的维度不相同时，会根据一定的广播规则将维数扩充到一致的形式，\n",
    "\n",
    "数学公式： (A.*B)ij = Aij* Bij"
   ]
  },
  {
   "cell_type": "code",
   "execution_count": 40,
   "metadata": {
    "collapsed": false
   },
   "outputs": [
    {
     "name": "stdout",
     "output_type": "stream",
     "text": [
      "[[  1.5   3.    4.5]\n",
      " [  6.    7.5   9. ]\n",
      " [ 10.5  12.   13.5]]\n"
     ]
    }
   ],
   "source": [
    "mymatrix = mat([[1,2,3],[4,5,6],[7,8,9]])\n",
    "mymatrix2 = 1.5*ones((3,3))\n",
    "print multiply(mymatrix,mymatrix2)"
   ]
  },
  {
   "cell_type": "markdown",
   "metadata": {},
   "source": [
    "2.5 矩阵各元素的 n 次幂： n=2\n",
    "\n",
    "数学公式： Aij2 = Aij* Aij"
   ]
  },
  {
   "cell_type": "code",
   "execution_count": 48,
   "metadata": {
    "collapsed": false
   },
   "outputs": [
    {
     "name": "stdout",
     "output_type": "stream",
     "text": [
      "[[ 1  4  9]\n",
      " [16 25 36]\n",
      " [49 64 81]]\n"
     ]
    }
   ],
   "source": [
    "mymatrix = mat( [[1,2,3],[4,5,6],[7,8,9]])\n",
    "print power(mymatrix,2)"
   ]
  },
  {
   "cell_type": "markdown",
   "metadata": {},
   "source": [
    "3 矩阵的乘法：矩阵乘矩阵"
   ]
  },
  {
   "cell_type": "code",
   "execution_count": 49,
   "metadata": {
    "collapsed": false
   },
   "outputs": [
    {
     "name": "stdout",
     "output_type": "stream",
     "text": [
      "[[14]\n",
      " [32]\n",
      " [50]]\n"
     ]
    }
   ],
   "source": [
    "from numpy import *\n",
    "\n",
    "mymatrix = mat( [[1,2,3],[4,5,6],[7,8,9]])\n",
    "mymatrix2 = mat( [[1],[2],[3]])\n",
    "print mymatrix * mymatrix2"
   ]
  },
  {
   "cell_type": "markdown",
   "metadata": {},
   "source": [
    "4  矩阵的转置"
   ]
  },
  {
   "cell_type": "code",
   "execution_count": 51,
   "metadata": {
    "collapsed": false
   },
   "outputs": [
    {
     "name": "stdout",
     "output_type": "stream",
     "text": [
      "[[1 4 7]\n",
      " [2 5 8]\n",
      " [3 6 9]]\n",
      "[[1 2 3]\n",
      " [4 5 6]\n",
      " [7 8 9]]\n"
     ]
    }
   ],
   "source": [
    "from numpy import *\n",
    "\n",
    "mymatrix = mat( [[1,2,3],[4,5,6],[7,8,9]])\n",
    "print mymatrix.T\n",
    "mymatrix.transpose()\n",
    "print mymatrix"
   ]
  },
  {
   "cell_type": "code",
   "execution_count": null,
   "metadata": {
    "collapsed": true
   },
   "outputs": [],
   "source": []
  }
 ],
 "metadata": {
  "anaconda-cloud": {},
  "kernelspec": {
   "display_name": "Python [conda root]",
   "language": "python",
   "name": "conda-root-py"
  },
  "language_info": {
   "codemirror_mode": {
    "name": "ipython",
    "version": 2
   },
   "file_extension": ".py",
   "mimetype": "text/x-python",
   "name": "python",
   "nbconvert_exporter": "python",
   "pygments_lexer": "ipython2",
   "version": "2.7.12"
  }
 },
 "nbformat": 4,
 "nbformat_minor": 1
}
